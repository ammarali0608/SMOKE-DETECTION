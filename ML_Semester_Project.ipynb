{
  "cells": [
    {
      "cell_type": "code",
      "execution_count": 1,
      "metadata": {
        "id": "I15cuN0ge2NB"
      },
      "outputs": [],
      "source": [
        "import numpy as np\n",
        "import pandas as pd\n",
        "import matplotlib.pyplot as plt\n",
        "import seaborn as sns\n",
        "import tensorflow as tf\n",
        "from matplotlib import rc_params\n",
        "from sklearn.model_selection import train_test_split\n",
        "from sklearn.preprocessing import StandardScaler\n",
        "from imblearn.over_sampling import SMOTE\n",
        "from sklearn.linear_model import LinearRegression\n",
        "from sklearn.linear_model import LogisticRegression\n",
        "from sklearn.ensemble import RandomForestClassifier\n",
        "from sklearn.tree import DecisionTreeClassifier \n",
        "from sklearn.metrics import confusion_matrix\n",
        "from sklearn.preprocessing import LabelEncoder,MinMaxScaler , StandardScaler"
      ]
    },
    {
      "cell_type": "markdown",
      "metadata": {
        "id": "S23hhexb8fH6"
      },
      "source": [
        "**Importing Dataset**"
      ]
    },
    {
      "cell_type": "code",
      "execution_count": 2,
      "metadata": {
        "id": "87buFF6r8Fye",
        "outputId": "f38b7d01-1008-4091-ec56-19d96e20390e",
        "colab": {
          "base_uri": "https://localhost:8080/"
        }
      },
      "outputs": [
        {
          "output_type": "execute_result",
          "data": {
            "text/plain": [
              "<bound method NDFrame.head of        Unnamed: 0         UTC  Temperature[C]  Humidity[%]  TVOC[ppb]  \\\n",
              "0               0  1654733331          20.000        57.36          0   \n",
              "1               1  1654733332          20.015        56.67          0   \n",
              "2               2  1654733333          20.029        55.96          0   \n",
              "3               3  1654733334          20.044        55.28          0   \n",
              "4               4  1654733335          20.059        54.69          0   \n",
              "...           ...         ...             ...          ...        ...   \n",
              "62625       62625  1655130047          18.438        15.79        625   \n",
              "62626       62626  1655130048          18.653        15.87        612   \n",
              "62627       62627  1655130049          18.867        15.84        627   \n",
              "62628       62628  1655130050          19.083        16.04        638   \n",
              "62629       62629  1655130051          19.299        16.52        643   \n",
              "\n",
              "       eCO2[ppm]  Raw H2  Raw Ethanol  Pressure[hPa]  PM1.0  PM2.5  NC0.5  \\\n",
              "0            400   12306        18520        939.735   0.00   0.00   0.00   \n",
              "1            400   12345        18651        939.744   0.00   0.00   0.00   \n",
              "2            400   12374        18764        939.738   0.00   0.00   0.00   \n",
              "3            400   12390        18849        939.736   0.00   0.00   0.00   \n",
              "4            400   12403        18921        939.744   0.00   0.00   0.00   \n",
              "...          ...     ...          ...            ...    ...    ...    ...   \n",
              "62625        400   13723        20569        936.670   0.63   0.65   4.32   \n",
              "62626        400   13731        20588        936.678   0.61   0.63   4.18   \n",
              "62627        400   13725        20582        936.687   0.57   0.60   3.95   \n",
              "62628        400   13712        20566        936.680   0.57   0.59   3.92   \n",
              "62629        400   13696        20543        936.676   0.57   0.59   3.90   \n",
              "\n",
              "       NC1.0  NC2.5   CNT  Fire Alarm  \n",
              "0      0.000  0.000     0           0  \n",
              "1      0.000  0.000     1           0  \n",
              "2      0.000  0.000     2           0  \n",
              "3      0.000  0.000     3           0  \n",
              "4      0.000  0.000     4           0  \n",
              "...      ...    ...   ...         ...  \n",
              "62625  0.673  0.015  5739           0  \n",
              "62626  0.652  0.015  5740           0  \n",
              "62627  0.617  0.014  5741           0  \n",
              "62628  0.611  0.014  5742           0  \n",
              "62629  0.607  0.014  5743           0  \n",
              "\n",
              "[62630 rows x 16 columns]>"
            ]
          },
          "metadata": {},
          "execution_count": 2
        }
      ],
      "source": [
        " df = pd.read_csv(\"https://raw.githubusercontent.com/AftabAhmedAbro/Smoke-Detection-Machine-Learning/main/smoke_detection_iot.csv\")\n",
        "df.head"
      ]
    },
    {
      "cell_type": "markdown",
      "metadata": {
        "id": "KJvRcUje9Asj"
      },
      "source": [
        "***Data Overview***"
      ]
    },
    {
      "cell_type": "code",
      "execution_count": 3,
      "metadata": {
        "id": "AC3HZN7A8ciF",
        "outputId": "d0755d15-3307-4534-f41a-a40279ae1190",
        "colab": {
          "base_uri": "https://localhost:8080/"
        }
      },
      "outputs": [
        {
          "output_type": "execute_result",
          "data": {
            "text/plain": [
              "<bound method DataFrame.info of        Unnamed: 0         UTC  Temperature[C]  Humidity[%]  TVOC[ppb]  \\\n",
              "0               0  1654733331          20.000        57.36          0   \n",
              "1               1  1654733332          20.015        56.67          0   \n",
              "2               2  1654733333          20.029        55.96          0   \n",
              "3               3  1654733334          20.044        55.28          0   \n",
              "4               4  1654733335          20.059        54.69          0   \n",
              "...           ...         ...             ...          ...        ...   \n",
              "62625       62625  1655130047          18.438        15.79        625   \n",
              "62626       62626  1655130048          18.653        15.87        612   \n",
              "62627       62627  1655130049          18.867        15.84        627   \n",
              "62628       62628  1655130050          19.083        16.04        638   \n",
              "62629       62629  1655130051          19.299        16.52        643   \n",
              "\n",
              "       eCO2[ppm]  Raw H2  Raw Ethanol  Pressure[hPa]  PM1.0  PM2.5  NC0.5  \\\n",
              "0            400   12306        18520        939.735   0.00   0.00   0.00   \n",
              "1            400   12345        18651        939.744   0.00   0.00   0.00   \n",
              "2            400   12374        18764        939.738   0.00   0.00   0.00   \n",
              "3            400   12390        18849        939.736   0.00   0.00   0.00   \n",
              "4            400   12403        18921        939.744   0.00   0.00   0.00   \n",
              "...          ...     ...          ...            ...    ...    ...    ...   \n",
              "62625        400   13723        20569        936.670   0.63   0.65   4.32   \n",
              "62626        400   13731        20588        936.678   0.61   0.63   4.18   \n",
              "62627        400   13725        20582        936.687   0.57   0.60   3.95   \n",
              "62628        400   13712        20566        936.680   0.57   0.59   3.92   \n",
              "62629        400   13696        20543        936.676   0.57   0.59   3.90   \n",
              "\n",
              "       NC1.0  NC2.5   CNT  Fire Alarm  \n",
              "0      0.000  0.000     0           0  \n",
              "1      0.000  0.000     1           0  \n",
              "2      0.000  0.000     2           0  \n",
              "3      0.000  0.000     3           0  \n",
              "4      0.000  0.000     4           0  \n",
              "...      ...    ...   ...         ...  \n",
              "62625  0.673  0.015  5739           0  \n",
              "62626  0.652  0.015  5740           0  \n",
              "62627  0.617  0.014  5741           0  \n",
              "62628  0.611  0.014  5742           0  \n",
              "62629  0.607  0.014  5743           0  \n",
              "\n",
              "[62630 rows x 16 columns]>"
            ]
          },
          "metadata": {},
          "execution_count": 3
        }
      ],
      "source": [
        "df.info"
      ]
    },
    {
      "cell_type": "code",
      "source": [
        "df.describe().T"
      ],
      "metadata": {
        "id": "Jzo-GSQgiKRO",
        "outputId": "f69adb44-6516-498e-95cb-f46b6541a7dc",
        "colab": {
          "base_uri": "https://localhost:8080/",
          "height": 489
        }
      },
      "execution_count": 8,
      "outputs": [
        {
          "output_type": "execute_result",
          "data": {
            "text/plain": [
              "                  count          mean          std        min          25%  \\\n",
              "Temperature[C]  62630.0     15.970424    14.359576    -22.010     10.99425   \n",
              "Humidity[%]     62630.0     48.539499     8.865367     10.740     47.53000   \n",
              "TVOC[ppb]       62630.0   1942.057528  7811.589055      0.000    130.00000   \n",
              "eCO2[ppm]       62630.0    670.021044  1905.885439    400.000    400.00000   \n",
              "Raw H2          62630.0  12942.453936   272.464305  10668.000  12830.00000   \n",
              "Raw Ethanol     62630.0  19754.257912   609.513156  15317.000  19435.00000   \n",
              "Pressure[hPa]   62630.0    938.627649     1.331344    930.852    938.70000   \n",
              "PM1.0           62630.0    100.594309   922.524245      0.000      1.28000   \n",
              "PM2.5           62630.0    184.467770  1976.305615      0.000      1.34000   \n",
              "NC0.5           62630.0    491.463608  4265.661251      0.000      8.82000   \n",
              "NC1.0           62630.0    203.586487  2214.738556      0.000      1.38400   \n",
              "NC2.5           62630.0     80.049042  1083.383189      0.000      0.03300   \n",
              "CNT             62630.0  10511.386157  7597.870997      0.000   3625.25000   \n",
              "Fire Alarm      62630.0      0.714626     0.451596      0.000      0.00000   \n",
              "\n",
              "                      50%         75%        max  \n",
              "Temperature[C]     20.130     25.4095     59.930  \n",
              "Humidity[%]        50.150     53.2400     75.200  \n",
              "TVOC[ppb]         981.000   1189.0000  60000.000  \n",
              "eCO2[ppm]         400.000    438.0000  60000.000  \n",
              "Raw H2          12924.000  13109.0000  13803.000  \n",
              "Raw Ethanol     19501.000  20078.0000  21410.000  \n",
              "Pressure[hPa]     938.816    939.4180    939.861  \n",
              "PM1.0               1.810      2.0900  14333.690  \n",
              "PM2.5               1.880      2.1800  45432.260  \n",
              "NC0.5              12.450     14.4200  61482.030  \n",
              "NC1.0               1.943      2.2490  51914.680  \n",
              "NC2.5               0.044      0.0510  30026.438  \n",
              "CNT              9336.000  17164.7500  24993.000  \n",
              "Fire Alarm          1.000      1.0000      1.000  "
            ],
            "text/html": [
              "\n",
              "  <div id=\"df-eec1e9ac-7c02-4a56-8155-7ad4f96bc764\">\n",
              "    <div class=\"colab-df-container\">\n",
              "      <div>\n",
              "<style scoped>\n",
              "    .dataframe tbody tr th:only-of-type {\n",
              "        vertical-align: middle;\n",
              "    }\n",
              "\n",
              "    .dataframe tbody tr th {\n",
              "        vertical-align: top;\n",
              "    }\n",
              "\n",
              "    .dataframe thead th {\n",
              "        text-align: right;\n",
              "    }\n",
              "</style>\n",
              "<table border=\"1\" class=\"dataframe\">\n",
              "  <thead>\n",
              "    <tr style=\"text-align: right;\">\n",
              "      <th></th>\n",
              "      <th>count</th>\n",
              "      <th>mean</th>\n",
              "      <th>std</th>\n",
              "      <th>min</th>\n",
              "      <th>25%</th>\n",
              "      <th>50%</th>\n",
              "      <th>75%</th>\n",
              "      <th>max</th>\n",
              "    </tr>\n",
              "  </thead>\n",
              "  <tbody>\n",
              "    <tr>\n",
              "      <th>Temperature[C]</th>\n",
              "      <td>62630.0</td>\n",
              "      <td>15.970424</td>\n",
              "      <td>14.359576</td>\n",
              "      <td>-22.010</td>\n",
              "      <td>10.99425</td>\n",
              "      <td>20.130</td>\n",
              "      <td>25.4095</td>\n",
              "      <td>59.930</td>\n",
              "    </tr>\n",
              "    <tr>\n",
              "      <th>Humidity[%]</th>\n",
              "      <td>62630.0</td>\n",
              "      <td>48.539499</td>\n",
              "      <td>8.865367</td>\n",
              "      <td>10.740</td>\n",
              "      <td>47.53000</td>\n",
              "      <td>50.150</td>\n",
              "      <td>53.2400</td>\n",
              "      <td>75.200</td>\n",
              "    </tr>\n",
              "    <tr>\n",
              "      <th>TVOC[ppb]</th>\n",
              "      <td>62630.0</td>\n",
              "      <td>1942.057528</td>\n",
              "      <td>7811.589055</td>\n",
              "      <td>0.000</td>\n",
              "      <td>130.00000</td>\n",
              "      <td>981.000</td>\n",
              "      <td>1189.0000</td>\n",
              "      <td>60000.000</td>\n",
              "    </tr>\n",
              "    <tr>\n",
              "      <th>eCO2[ppm]</th>\n",
              "      <td>62630.0</td>\n",
              "      <td>670.021044</td>\n",
              "      <td>1905.885439</td>\n",
              "      <td>400.000</td>\n",
              "      <td>400.00000</td>\n",
              "      <td>400.000</td>\n",
              "      <td>438.0000</td>\n",
              "      <td>60000.000</td>\n",
              "    </tr>\n",
              "    <tr>\n",
              "      <th>Raw H2</th>\n",
              "      <td>62630.0</td>\n",
              "      <td>12942.453936</td>\n",
              "      <td>272.464305</td>\n",
              "      <td>10668.000</td>\n",
              "      <td>12830.00000</td>\n",
              "      <td>12924.000</td>\n",
              "      <td>13109.0000</td>\n",
              "      <td>13803.000</td>\n",
              "    </tr>\n",
              "    <tr>\n",
              "      <th>Raw Ethanol</th>\n",
              "      <td>62630.0</td>\n",
              "      <td>19754.257912</td>\n",
              "      <td>609.513156</td>\n",
              "      <td>15317.000</td>\n",
              "      <td>19435.00000</td>\n",
              "      <td>19501.000</td>\n",
              "      <td>20078.0000</td>\n",
              "      <td>21410.000</td>\n",
              "    </tr>\n",
              "    <tr>\n",
              "      <th>Pressure[hPa]</th>\n",
              "      <td>62630.0</td>\n",
              "      <td>938.627649</td>\n",
              "      <td>1.331344</td>\n",
              "      <td>930.852</td>\n",
              "      <td>938.70000</td>\n",
              "      <td>938.816</td>\n",
              "      <td>939.4180</td>\n",
              "      <td>939.861</td>\n",
              "    </tr>\n",
              "    <tr>\n",
              "      <th>PM1.0</th>\n",
              "      <td>62630.0</td>\n",
              "      <td>100.594309</td>\n",
              "      <td>922.524245</td>\n",
              "      <td>0.000</td>\n",
              "      <td>1.28000</td>\n",
              "      <td>1.810</td>\n",
              "      <td>2.0900</td>\n",
              "      <td>14333.690</td>\n",
              "    </tr>\n",
              "    <tr>\n",
              "      <th>PM2.5</th>\n",
              "      <td>62630.0</td>\n",
              "      <td>184.467770</td>\n",
              "      <td>1976.305615</td>\n",
              "      <td>0.000</td>\n",
              "      <td>1.34000</td>\n",
              "      <td>1.880</td>\n",
              "      <td>2.1800</td>\n",
              "      <td>45432.260</td>\n",
              "    </tr>\n",
              "    <tr>\n",
              "      <th>NC0.5</th>\n",
              "      <td>62630.0</td>\n",
              "      <td>491.463608</td>\n",
              "      <td>4265.661251</td>\n",
              "      <td>0.000</td>\n",
              "      <td>8.82000</td>\n",
              "      <td>12.450</td>\n",
              "      <td>14.4200</td>\n",
              "      <td>61482.030</td>\n",
              "    </tr>\n",
              "    <tr>\n",
              "      <th>NC1.0</th>\n",
              "      <td>62630.0</td>\n",
              "      <td>203.586487</td>\n",
              "      <td>2214.738556</td>\n",
              "      <td>0.000</td>\n",
              "      <td>1.38400</td>\n",
              "      <td>1.943</td>\n",
              "      <td>2.2490</td>\n",
              "      <td>51914.680</td>\n",
              "    </tr>\n",
              "    <tr>\n",
              "      <th>NC2.5</th>\n",
              "      <td>62630.0</td>\n",
              "      <td>80.049042</td>\n",
              "      <td>1083.383189</td>\n",
              "      <td>0.000</td>\n",
              "      <td>0.03300</td>\n",
              "      <td>0.044</td>\n",
              "      <td>0.0510</td>\n",
              "      <td>30026.438</td>\n",
              "    </tr>\n",
              "    <tr>\n",
              "      <th>CNT</th>\n",
              "      <td>62630.0</td>\n",
              "      <td>10511.386157</td>\n",
              "      <td>7597.870997</td>\n",
              "      <td>0.000</td>\n",
              "      <td>3625.25000</td>\n",
              "      <td>9336.000</td>\n",
              "      <td>17164.7500</td>\n",
              "      <td>24993.000</td>\n",
              "    </tr>\n",
              "    <tr>\n",
              "      <th>Fire Alarm</th>\n",
              "      <td>62630.0</td>\n",
              "      <td>0.714626</td>\n",
              "      <td>0.451596</td>\n",
              "      <td>0.000</td>\n",
              "      <td>0.00000</td>\n",
              "      <td>1.000</td>\n",
              "      <td>1.0000</td>\n",
              "      <td>1.000</td>\n",
              "    </tr>\n",
              "  </tbody>\n",
              "</table>\n",
              "</div>\n",
              "      <button class=\"colab-df-convert\" onclick=\"convertToInteractive('df-eec1e9ac-7c02-4a56-8155-7ad4f96bc764')\"\n",
              "              title=\"Convert this dataframe to an interactive table.\"\n",
              "              style=\"display:none;\">\n",
              "        \n",
              "  <svg xmlns=\"http://www.w3.org/2000/svg\" height=\"24px\"viewBox=\"0 0 24 24\"\n",
              "       width=\"24px\">\n",
              "    <path d=\"M0 0h24v24H0V0z\" fill=\"none\"/>\n",
              "    <path d=\"M18.56 5.44l.94 2.06.94-2.06 2.06-.94-2.06-.94-.94-2.06-.94 2.06-2.06.94zm-11 1L8.5 8.5l.94-2.06 2.06-.94-2.06-.94L8.5 2.5l-.94 2.06-2.06.94zm10 10l.94 2.06.94-2.06 2.06-.94-2.06-.94-.94-2.06-.94 2.06-2.06.94z\"/><path d=\"M17.41 7.96l-1.37-1.37c-.4-.4-.92-.59-1.43-.59-.52 0-1.04.2-1.43.59L10.3 9.45l-7.72 7.72c-.78.78-.78 2.05 0 2.83L4 21.41c.39.39.9.59 1.41.59.51 0 1.02-.2 1.41-.59l7.78-7.78 2.81-2.81c.8-.78.8-2.07 0-2.86zM5.41 20L4 18.59l7.72-7.72 1.47 1.35L5.41 20z\"/>\n",
              "  </svg>\n",
              "      </button>\n",
              "      \n",
              "  <style>\n",
              "    .colab-df-container {\n",
              "      display:flex;\n",
              "      flex-wrap:wrap;\n",
              "      gap: 12px;\n",
              "    }\n",
              "\n",
              "    .colab-df-convert {\n",
              "      background-color: #E8F0FE;\n",
              "      border: none;\n",
              "      border-radius: 50%;\n",
              "      cursor: pointer;\n",
              "      display: none;\n",
              "      fill: #1967D2;\n",
              "      height: 32px;\n",
              "      padding: 0 0 0 0;\n",
              "      width: 32px;\n",
              "    }\n",
              "\n",
              "    .colab-df-convert:hover {\n",
              "      background-color: #E2EBFA;\n",
              "      box-shadow: 0px 1px 2px rgba(60, 64, 67, 0.3), 0px 1px 3px 1px rgba(60, 64, 67, 0.15);\n",
              "      fill: #174EA6;\n",
              "    }\n",
              "\n",
              "    [theme=dark] .colab-df-convert {\n",
              "      background-color: #3B4455;\n",
              "      fill: #D2E3FC;\n",
              "    }\n",
              "\n",
              "    [theme=dark] .colab-df-convert:hover {\n",
              "      background-color: #434B5C;\n",
              "      box-shadow: 0px 1px 3px 1px rgba(0, 0, 0, 0.15);\n",
              "      filter: drop-shadow(0px 1px 2px rgba(0, 0, 0, 0.3));\n",
              "      fill: #FFFFFF;\n",
              "    }\n",
              "  </style>\n",
              "\n",
              "      <script>\n",
              "        const buttonEl =\n",
              "          document.querySelector('#df-eec1e9ac-7c02-4a56-8155-7ad4f96bc764 button.colab-df-convert');\n",
              "        buttonEl.style.display =\n",
              "          google.colab.kernel.accessAllowed ? 'block' : 'none';\n",
              "\n",
              "        async function convertToInteractive(key) {\n",
              "          const element = document.querySelector('#df-eec1e9ac-7c02-4a56-8155-7ad4f96bc764');\n",
              "          const dataTable =\n",
              "            await google.colab.kernel.invokeFunction('convertToInteractive',\n",
              "                                                     [key], {});\n",
              "          if (!dataTable) return;\n",
              "\n",
              "          const docLinkHtml = 'Like what you see? Visit the ' +\n",
              "            '<a target=\"_blank\" href=https://colab.research.google.com/notebooks/data_table.ipynb>data table notebook</a>'\n",
              "            + ' to learn more about interactive tables.';\n",
              "          element.innerHTML = '';\n",
              "          dataTable['output_type'] = 'display_data';\n",
              "          await google.colab.output.renderOutput(dataTable, element);\n",
              "          const docLink = document.createElement('div');\n",
              "          docLink.innerHTML = docLinkHtml;\n",
              "          element.appendChild(docLink);\n",
              "        }\n",
              "      </script>\n",
              "    </div>\n",
              "  </div>\n",
              "  "
            ]
          },
          "metadata": {},
          "execution_count": 8
        }
      ]
    },
    {
      "cell_type": "markdown",
      "metadata": {
        "id": "Dz6O8kX89No6"
      },
      "source": [
        "**Dropping the Coloumns**\n",
        "\n",
        "As Unnamed 0 coloumn consist of serial number so it is not important enough also \"UTC\" coloumn is not important as it has only timestamps."
      ]
    },
    {
      "cell_type": "code",
      "execution_count": 9,
      "metadata": {
        "id": "fAerWoop9qJD",
        "outputId": "82e5b96a-7d48-4f7b-8811-e685bc053a35",
        "colab": {
          "base_uri": "https://localhost:8080/",
          "height": 313
        }
      },
      "outputs": [
        {
          "output_type": "error",
          "ename": "KeyError",
          "evalue": "ignored",
          "traceback": [
            "\u001b[0;31m---------------------------------------------------------------------------\u001b[0m",
            "\u001b[0;31mKeyError\u001b[0m                                  Traceback (most recent call last)",
            "\u001b[0;32m<ipython-input-9-b1e8d5c44d26>\u001b[0m in \u001b[0;36m<module>\u001b[0;34m\u001b[0m\n\u001b[0;32m----> 1\u001b[0;31m \u001b[0mdf\u001b[0m\u001b[0;34m.\u001b[0m\u001b[0mdrop\u001b[0m\u001b[0;34m(\u001b[0m\u001b[0;34m[\u001b[0m\u001b[0;34m'Unnamed: 0'\u001b[0m\u001b[0;34m,\u001b[0m \u001b[0;34m'UTC'\u001b[0m\u001b[0;34m]\u001b[0m\u001b[0;34m,\u001b[0m \u001b[0maxis\u001b[0m \u001b[0;34m=\u001b[0m \u001b[0;36m1\u001b[0m\u001b[0;34m,\u001b[0m \u001b[0minplace\u001b[0m \u001b[0;34m=\u001b[0m \u001b[0;32mTrue\u001b[0m\u001b[0;34m)\u001b[0m\u001b[0;34m\u001b[0m\u001b[0;34m\u001b[0m\u001b[0m\n\u001b[0m",
            "\u001b[0;32m/usr/local/lib/python3.8/dist-packages/pandas/util/_decorators.py\u001b[0m in \u001b[0;36mwrapper\u001b[0;34m(*args, **kwargs)\u001b[0m\n\u001b[1;32m    309\u001b[0m                     \u001b[0mstacklevel\u001b[0m\u001b[0;34m=\u001b[0m\u001b[0mstacklevel\u001b[0m\u001b[0;34m,\u001b[0m\u001b[0;34m\u001b[0m\u001b[0;34m\u001b[0m\u001b[0m\n\u001b[1;32m    310\u001b[0m                 )\n\u001b[0;32m--> 311\u001b[0;31m             \u001b[0;32mreturn\u001b[0m \u001b[0mfunc\u001b[0m\u001b[0;34m(\u001b[0m\u001b[0;34m*\u001b[0m\u001b[0margs\u001b[0m\u001b[0;34m,\u001b[0m \u001b[0;34m**\u001b[0m\u001b[0mkwargs\u001b[0m\u001b[0;34m)\u001b[0m\u001b[0;34m\u001b[0m\u001b[0;34m\u001b[0m\u001b[0m\n\u001b[0m\u001b[1;32m    312\u001b[0m \u001b[0;34m\u001b[0m\u001b[0m\n\u001b[1;32m    313\u001b[0m         \u001b[0;32mreturn\u001b[0m \u001b[0mwrapper\u001b[0m\u001b[0;34m\u001b[0m\u001b[0;34m\u001b[0m\u001b[0m\n",
            "\u001b[0;32m/usr/local/lib/python3.8/dist-packages/pandas/core/frame.py\u001b[0m in \u001b[0;36mdrop\u001b[0;34m(self, labels, axis, index, columns, level, inplace, errors)\u001b[0m\n\u001b[1;32m   4904\u001b[0m                 \u001b[0mweight\u001b[0m  \u001b[0;36m1.0\u001b[0m     \u001b[0;36m0.8\u001b[0m\u001b[0;34m\u001b[0m\u001b[0;34m\u001b[0m\u001b[0m\n\u001b[1;32m   4905\u001b[0m         \"\"\"\n\u001b[0;32m-> 4906\u001b[0;31m         return super().drop(\n\u001b[0m\u001b[1;32m   4907\u001b[0m             \u001b[0mlabels\u001b[0m\u001b[0;34m=\u001b[0m\u001b[0mlabels\u001b[0m\u001b[0;34m,\u001b[0m\u001b[0;34m\u001b[0m\u001b[0;34m\u001b[0m\u001b[0m\n\u001b[1;32m   4908\u001b[0m             \u001b[0maxis\u001b[0m\u001b[0;34m=\u001b[0m\u001b[0maxis\u001b[0m\u001b[0;34m,\u001b[0m\u001b[0;34m\u001b[0m\u001b[0;34m\u001b[0m\u001b[0m\n",
            "\u001b[0;32m/usr/local/lib/python3.8/dist-packages/pandas/core/generic.py\u001b[0m in \u001b[0;36mdrop\u001b[0;34m(self, labels, axis, index, columns, level, inplace, errors)\u001b[0m\n\u001b[1;32m   4148\u001b[0m         \u001b[0;32mfor\u001b[0m \u001b[0maxis\u001b[0m\u001b[0;34m,\u001b[0m \u001b[0mlabels\u001b[0m \u001b[0;32min\u001b[0m \u001b[0maxes\u001b[0m\u001b[0;34m.\u001b[0m\u001b[0mitems\u001b[0m\u001b[0;34m(\u001b[0m\u001b[0;34m)\u001b[0m\u001b[0;34m:\u001b[0m\u001b[0;34m\u001b[0m\u001b[0;34m\u001b[0m\u001b[0m\n\u001b[1;32m   4149\u001b[0m             \u001b[0;32mif\u001b[0m \u001b[0mlabels\u001b[0m \u001b[0;32mis\u001b[0m \u001b[0;32mnot\u001b[0m \u001b[0;32mNone\u001b[0m\u001b[0;34m:\u001b[0m\u001b[0;34m\u001b[0m\u001b[0;34m\u001b[0m\u001b[0m\n\u001b[0;32m-> 4150\u001b[0;31m                 \u001b[0mobj\u001b[0m \u001b[0;34m=\u001b[0m \u001b[0mobj\u001b[0m\u001b[0;34m.\u001b[0m\u001b[0m_drop_axis\u001b[0m\u001b[0;34m(\u001b[0m\u001b[0mlabels\u001b[0m\u001b[0;34m,\u001b[0m \u001b[0maxis\u001b[0m\u001b[0;34m,\u001b[0m \u001b[0mlevel\u001b[0m\u001b[0;34m=\u001b[0m\u001b[0mlevel\u001b[0m\u001b[0;34m,\u001b[0m \u001b[0merrors\u001b[0m\u001b[0;34m=\u001b[0m\u001b[0merrors\u001b[0m\u001b[0;34m)\u001b[0m\u001b[0;34m\u001b[0m\u001b[0;34m\u001b[0m\u001b[0m\n\u001b[0m\u001b[1;32m   4151\u001b[0m \u001b[0;34m\u001b[0m\u001b[0m\n\u001b[1;32m   4152\u001b[0m         \u001b[0;32mif\u001b[0m \u001b[0minplace\u001b[0m\u001b[0;34m:\u001b[0m\u001b[0;34m\u001b[0m\u001b[0;34m\u001b[0m\u001b[0m\n",
            "\u001b[0;32m/usr/local/lib/python3.8/dist-packages/pandas/core/generic.py\u001b[0m in \u001b[0;36m_drop_axis\u001b[0;34m(self, labels, axis, level, errors)\u001b[0m\n\u001b[1;32m   4183\u001b[0m                 \u001b[0mnew_axis\u001b[0m \u001b[0;34m=\u001b[0m \u001b[0maxis\u001b[0m\u001b[0;34m.\u001b[0m\u001b[0mdrop\u001b[0m\u001b[0;34m(\u001b[0m\u001b[0mlabels\u001b[0m\u001b[0;34m,\u001b[0m \u001b[0mlevel\u001b[0m\u001b[0;34m=\u001b[0m\u001b[0mlevel\u001b[0m\u001b[0;34m,\u001b[0m \u001b[0merrors\u001b[0m\u001b[0;34m=\u001b[0m\u001b[0merrors\u001b[0m\u001b[0;34m)\u001b[0m\u001b[0;34m\u001b[0m\u001b[0;34m\u001b[0m\u001b[0m\n\u001b[1;32m   4184\u001b[0m             \u001b[0;32melse\u001b[0m\u001b[0;34m:\u001b[0m\u001b[0;34m\u001b[0m\u001b[0;34m\u001b[0m\u001b[0m\n\u001b[0;32m-> 4185\u001b[0;31m                 \u001b[0mnew_axis\u001b[0m \u001b[0;34m=\u001b[0m \u001b[0maxis\u001b[0m\u001b[0;34m.\u001b[0m\u001b[0mdrop\u001b[0m\u001b[0;34m(\u001b[0m\u001b[0mlabels\u001b[0m\u001b[0;34m,\u001b[0m \u001b[0merrors\u001b[0m\u001b[0;34m=\u001b[0m\u001b[0merrors\u001b[0m\u001b[0;34m)\u001b[0m\u001b[0;34m\u001b[0m\u001b[0;34m\u001b[0m\u001b[0m\n\u001b[0m\u001b[1;32m   4186\u001b[0m             \u001b[0mresult\u001b[0m \u001b[0;34m=\u001b[0m \u001b[0mself\u001b[0m\u001b[0;34m.\u001b[0m\u001b[0mreindex\u001b[0m\u001b[0;34m(\u001b[0m\u001b[0;34m**\u001b[0m\u001b[0;34m{\u001b[0m\u001b[0maxis_name\u001b[0m\u001b[0;34m:\u001b[0m \u001b[0mnew_axis\u001b[0m\u001b[0;34m}\u001b[0m\u001b[0;34m)\u001b[0m\u001b[0;34m\u001b[0m\u001b[0;34m\u001b[0m\u001b[0m\n\u001b[1;32m   4187\u001b[0m \u001b[0;34m\u001b[0m\u001b[0m\n",
            "\u001b[0;32m/usr/local/lib/python3.8/dist-packages/pandas/core/indexes/base.py\u001b[0m in \u001b[0;36mdrop\u001b[0;34m(self, labels, errors)\u001b[0m\n\u001b[1;32m   6015\u001b[0m         \u001b[0;32mif\u001b[0m \u001b[0mmask\u001b[0m\u001b[0;34m.\u001b[0m\u001b[0many\u001b[0m\u001b[0;34m(\u001b[0m\u001b[0;34m)\u001b[0m\u001b[0;34m:\u001b[0m\u001b[0;34m\u001b[0m\u001b[0;34m\u001b[0m\u001b[0m\n\u001b[1;32m   6016\u001b[0m             \u001b[0;32mif\u001b[0m \u001b[0merrors\u001b[0m \u001b[0;34m!=\u001b[0m \u001b[0;34m\"ignore\"\u001b[0m\u001b[0;34m:\u001b[0m\u001b[0;34m\u001b[0m\u001b[0;34m\u001b[0m\u001b[0m\n\u001b[0;32m-> 6017\u001b[0;31m                 \u001b[0;32mraise\u001b[0m \u001b[0mKeyError\u001b[0m\u001b[0;34m(\u001b[0m\u001b[0;34mf\"{labels[mask]} not found in axis\"\u001b[0m\u001b[0;34m)\u001b[0m\u001b[0;34m\u001b[0m\u001b[0;34m\u001b[0m\u001b[0m\n\u001b[0m\u001b[1;32m   6018\u001b[0m             \u001b[0mindexer\u001b[0m \u001b[0;34m=\u001b[0m \u001b[0mindexer\u001b[0m\u001b[0;34m[\u001b[0m\u001b[0;34m~\u001b[0m\u001b[0mmask\u001b[0m\u001b[0;34m]\u001b[0m\u001b[0;34m\u001b[0m\u001b[0;34m\u001b[0m\u001b[0m\n\u001b[1;32m   6019\u001b[0m         \u001b[0;32mreturn\u001b[0m \u001b[0mself\u001b[0m\u001b[0;34m.\u001b[0m\u001b[0mdelete\u001b[0m\u001b[0;34m(\u001b[0m\u001b[0mindexer\u001b[0m\u001b[0;34m)\u001b[0m\u001b[0;34m\u001b[0m\u001b[0;34m\u001b[0m\u001b[0m\n",
            "\u001b[0;31mKeyError\u001b[0m: \"['Unnamed: 0' 'UTC'] not found in axis\""
          ]
        }
      ],
      "source": [
        "df.drop(['Unnamed: 0', 'UTC'], axis = 1, inplace = True)"
      ]
    },
    {
      "cell_type": "markdown",
      "metadata": {
        "id": "iWdzmsWO9_1A"
      },
      "source": [
        "**Missing Value Check**"
      ]
    },
    {
      "cell_type": "code",
      "execution_count": 10,
      "metadata": {
        "id": "Gc1PSwKs9-Su",
        "outputId": "0afaf01b-fb51-4b52-a6fd-f1d7f1575e01",
        "colab": {
          "base_uri": "https://localhost:8080/",
          "height": 489
        }
      },
      "outputs": [
        {
          "output_type": "execute_result",
          "data": {
            "text/plain": [
              "                Total  Percentage of Missing Values\n",
              "Temperature[C]      0                           0.0\n",
              "Humidity[%]         0                           0.0\n",
              "TVOC[ppb]           0                           0.0\n",
              "eCO2[ppm]           0                           0.0\n",
              "Raw H2              0                           0.0\n",
              "Raw Ethanol         0                           0.0\n",
              "Pressure[hPa]       0                           0.0\n",
              "PM1.0               0                           0.0\n",
              "PM2.5               0                           0.0\n",
              "NC0.5               0                           0.0\n",
              "NC1.0               0                           0.0\n",
              "NC2.5               0                           0.0\n",
              "CNT                 0                           0.0\n",
              "Fire Alarm          0                           0.0"
            ],
            "text/html": [
              "\n",
              "  <div id=\"df-491ed6d2-5498-44a3-9460-6aadbbe58d45\">\n",
              "    <div class=\"colab-df-container\">\n",
              "      <div>\n",
              "<style scoped>\n",
              "    .dataframe tbody tr th:only-of-type {\n",
              "        vertical-align: middle;\n",
              "    }\n",
              "\n",
              "    .dataframe tbody tr th {\n",
              "        vertical-align: top;\n",
              "    }\n",
              "\n",
              "    .dataframe thead th {\n",
              "        text-align: right;\n",
              "    }\n",
              "</style>\n",
              "<table border=\"1\" class=\"dataframe\">\n",
              "  <thead>\n",
              "    <tr style=\"text-align: right;\">\n",
              "      <th></th>\n",
              "      <th>Total</th>\n",
              "      <th>Percentage of Missing Values</th>\n",
              "    </tr>\n",
              "  </thead>\n",
              "  <tbody>\n",
              "    <tr>\n",
              "      <th>Temperature[C]</th>\n",
              "      <td>0</td>\n",
              "      <td>0.0</td>\n",
              "    </tr>\n",
              "    <tr>\n",
              "      <th>Humidity[%]</th>\n",
              "      <td>0</td>\n",
              "      <td>0.0</td>\n",
              "    </tr>\n",
              "    <tr>\n",
              "      <th>TVOC[ppb]</th>\n",
              "      <td>0</td>\n",
              "      <td>0.0</td>\n",
              "    </tr>\n",
              "    <tr>\n",
              "      <th>eCO2[ppm]</th>\n",
              "      <td>0</td>\n",
              "      <td>0.0</td>\n",
              "    </tr>\n",
              "    <tr>\n",
              "      <th>Raw H2</th>\n",
              "      <td>0</td>\n",
              "      <td>0.0</td>\n",
              "    </tr>\n",
              "    <tr>\n",
              "      <th>Raw Ethanol</th>\n",
              "      <td>0</td>\n",
              "      <td>0.0</td>\n",
              "    </tr>\n",
              "    <tr>\n",
              "      <th>Pressure[hPa]</th>\n",
              "      <td>0</td>\n",
              "      <td>0.0</td>\n",
              "    </tr>\n",
              "    <tr>\n",
              "      <th>PM1.0</th>\n",
              "      <td>0</td>\n",
              "      <td>0.0</td>\n",
              "    </tr>\n",
              "    <tr>\n",
              "      <th>PM2.5</th>\n",
              "      <td>0</td>\n",
              "      <td>0.0</td>\n",
              "    </tr>\n",
              "    <tr>\n",
              "      <th>NC0.5</th>\n",
              "      <td>0</td>\n",
              "      <td>0.0</td>\n",
              "    </tr>\n",
              "    <tr>\n",
              "      <th>NC1.0</th>\n",
              "      <td>0</td>\n",
              "      <td>0.0</td>\n",
              "    </tr>\n",
              "    <tr>\n",
              "      <th>NC2.5</th>\n",
              "      <td>0</td>\n",
              "      <td>0.0</td>\n",
              "    </tr>\n",
              "    <tr>\n",
              "      <th>CNT</th>\n",
              "      <td>0</td>\n",
              "      <td>0.0</td>\n",
              "    </tr>\n",
              "    <tr>\n",
              "      <th>Fire Alarm</th>\n",
              "      <td>0</td>\n",
              "      <td>0.0</td>\n",
              "    </tr>\n",
              "  </tbody>\n",
              "</table>\n",
              "</div>\n",
              "      <button class=\"colab-df-convert\" onclick=\"convertToInteractive('df-491ed6d2-5498-44a3-9460-6aadbbe58d45')\"\n",
              "              title=\"Convert this dataframe to an interactive table.\"\n",
              "              style=\"display:none;\">\n",
              "        \n",
              "  <svg xmlns=\"http://www.w3.org/2000/svg\" height=\"24px\"viewBox=\"0 0 24 24\"\n",
              "       width=\"24px\">\n",
              "    <path d=\"M0 0h24v24H0V0z\" fill=\"none\"/>\n",
              "    <path d=\"M18.56 5.44l.94 2.06.94-2.06 2.06-.94-2.06-.94-.94-2.06-.94 2.06-2.06.94zm-11 1L8.5 8.5l.94-2.06 2.06-.94-2.06-.94L8.5 2.5l-.94 2.06-2.06.94zm10 10l.94 2.06.94-2.06 2.06-.94-2.06-.94-.94-2.06-.94 2.06-2.06.94z\"/><path d=\"M17.41 7.96l-1.37-1.37c-.4-.4-.92-.59-1.43-.59-.52 0-1.04.2-1.43.59L10.3 9.45l-7.72 7.72c-.78.78-.78 2.05 0 2.83L4 21.41c.39.39.9.59 1.41.59.51 0 1.02-.2 1.41-.59l7.78-7.78 2.81-2.81c.8-.78.8-2.07 0-2.86zM5.41 20L4 18.59l7.72-7.72 1.47 1.35L5.41 20z\"/>\n",
              "  </svg>\n",
              "      </button>\n",
              "      \n",
              "  <style>\n",
              "    .colab-df-container {\n",
              "      display:flex;\n",
              "      flex-wrap:wrap;\n",
              "      gap: 12px;\n",
              "    }\n",
              "\n",
              "    .colab-df-convert {\n",
              "      background-color: #E8F0FE;\n",
              "      border: none;\n",
              "      border-radius: 50%;\n",
              "      cursor: pointer;\n",
              "      display: none;\n",
              "      fill: #1967D2;\n",
              "      height: 32px;\n",
              "      padding: 0 0 0 0;\n",
              "      width: 32px;\n",
              "    }\n",
              "\n",
              "    .colab-df-convert:hover {\n",
              "      background-color: #E2EBFA;\n",
              "      box-shadow: 0px 1px 2px rgba(60, 64, 67, 0.3), 0px 1px 3px 1px rgba(60, 64, 67, 0.15);\n",
              "      fill: #174EA6;\n",
              "    }\n",
              "\n",
              "    [theme=dark] .colab-df-convert {\n",
              "      background-color: #3B4455;\n",
              "      fill: #D2E3FC;\n",
              "    }\n",
              "\n",
              "    [theme=dark] .colab-df-convert:hover {\n",
              "      background-color: #434B5C;\n",
              "      box-shadow: 0px 1px 3px 1px rgba(0, 0, 0, 0.15);\n",
              "      filter: drop-shadow(0px 1px 2px rgba(0, 0, 0, 0.3));\n",
              "      fill: #FFFFFF;\n",
              "    }\n",
              "  </style>\n",
              "\n",
              "      <script>\n",
              "        const buttonEl =\n",
              "          document.querySelector('#df-491ed6d2-5498-44a3-9460-6aadbbe58d45 button.colab-df-convert');\n",
              "        buttonEl.style.display =\n",
              "          google.colab.kernel.accessAllowed ? 'block' : 'none';\n",
              "\n",
              "        async function convertToInteractive(key) {\n",
              "          const element = document.querySelector('#df-491ed6d2-5498-44a3-9460-6aadbbe58d45');\n",
              "          const dataTable =\n",
              "            await google.colab.kernel.invokeFunction('convertToInteractive',\n",
              "                                                     [key], {});\n",
              "          if (!dataTable) return;\n",
              "\n",
              "          const docLinkHtml = 'Like what you see? Visit the ' +\n",
              "            '<a target=\"_blank\" href=https://colab.research.google.com/notebooks/data_table.ipynb>data table notebook</a>'\n",
              "            + ' to learn more about interactive tables.';\n",
              "          element.innerHTML = '';\n",
              "          dataTable['output_type'] = 'display_data';\n",
              "          await google.colab.output.renderOutput(dataTable, element);\n",
              "          const docLink = document.createElement('div');\n",
              "          docLink.innerHTML = docLinkHtml;\n",
              "          element.appendChild(docLink);\n",
              "        }\n",
              "      </script>\n",
              "    </div>\n",
              "  </div>\n",
              "  "
            ]
          },
          "metadata": {},
          "execution_count": 10
        }
      ],
      "source": [
        "Total = df.isnull().sum().sort_values(ascending = False)          \n",
        "Percent = (df.isnull().sum()*100/df.isnull().count()).sort_values(ascending = False)   \n",
        "missing_data = pd.concat([Total, Percent], axis = 1, keys = ['Total', 'Percentage of Missing Values'])    \n",
        "missing_data"
      ]
    },
    {
      "cell_type": "markdown",
      "metadata": {
        "id": "x7ns7F8dAASb"
      },
      "source": [
        "**Exploratory Data Analysis**\n",
        "\n",
        "Statistical Summary of the Data:\n"
      ]
    },
    {
      "cell_type": "code",
      "execution_count": 11,
      "metadata": {
        "id": "srZtzQt5-qsP",
        "outputId": "fbcfa67c-298a-4ba3-c250-b12f53ecaaf0",
        "colab": {
          "base_uri": "https://localhost:8080/",
          "height": 489
        }
      },
      "outputs": [
        {
          "output_type": "execute_result",
          "data": {
            "text/plain": [
              "                  count          mean          std        min          25%  \\\n",
              "Temperature[C]  62630.0     15.970424    14.359576    -22.010     10.99425   \n",
              "Humidity[%]     62630.0     48.539499     8.865367     10.740     47.53000   \n",
              "TVOC[ppb]       62630.0   1942.057528  7811.589055      0.000    130.00000   \n",
              "eCO2[ppm]       62630.0    670.021044  1905.885439    400.000    400.00000   \n",
              "Raw H2          62630.0  12942.453936   272.464305  10668.000  12830.00000   \n",
              "Raw Ethanol     62630.0  19754.257912   609.513156  15317.000  19435.00000   \n",
              "Pressure[hPa]   62630.0    938.627649     1.331344    930.852    938.70000   \n",
              "PM1.0           62630.0    100.594309   922.524245      0.000      1.28000   \n",
              "PM2.5           62630.0    184.467770  1976.305615      0.000      1.34000   \n",
              "NC0.5           62630.0    491.463608  4265.661251      0.000      8.82000   \n",
              "NC1.0           62630.0    203.586487  2214.738556      0.000      1.38400   \n",
              "NC2.5           62630.0     80.049042  1083.383189      0.000      0.03300   \n",
              "CNT             62630.0  10511.386157  7597.870997      0.000   3625.25000   \n",
              "Fire Alarm      62630.0      0.714626     0.451596      0.000      0.00000   \n",
              "\n",
              "                      50%         75%        max  \n",
              "Temperature[C]     20.130     25.4095     59.930  \n",
              "Humidity[%]        50.150     53.2400     75.200  \n",
              "TVOC[ppb]         981.000   1189.0000  60000.000  \n",
              "eCO2[ppm]         400.000    438.0000  60000.000  \n",
              "Raw H2          12924.000  13109.0000  13803.000  \n",
              "Raw Ethanol     19501.000  20078.0000  21410.000  \n",
              "Pressure[hPa]     938.816    939.4180    939.861  \n",
              "PM1.0               1.810      2.0900  14333.690  \n",
              "PM2.5               1.880      2.1800  45432.260  \n",
              "NC0.5              12.450     14.4200  61482.030  \n",
              "NC1.0               1.943      2.2490  51914.680  \n",
              "NC2.5               0.044      0.0510  30026.438  \n",
              "CNT              9336.000  17164.7500  24993.000  \n",
              "Fire Alarm          1.000      1.0000      1.000  "
            ],
            "text/html": [
              "\n",
              "  <div id=\"df-fdc280d0-9d12-4ac8-87d7-c4ffe834818e\">\n",
              "    <div class=\"colab-df-container\">\n",
              "      <div>\n",
              "<style scoped>\n",
              "    .dataframe tbody tr th:only-of-type {\n",
              "        vertical-align: middle;\n",
              "    }\n",
              "\n",
              "    .dataframe tbody tr th {\n",
              "        vertical-align: top;\n",
              "    }\n",
              "\n",
              "    .dataframe thead th {\n",
              "        text-align: right;\n",
              "    }\n",
              "</style>\n",
              "<table border=\"1\" class=\"dataframe\">\n",
              "  <thead>\n",
              "    <tr style=\"text-align: right;\">\n",
              "      <th></th>\n",
              "      <th>count</th>\n",
              "      <th>mean</th>\n",
              "      <th>std</th>\n",
              "      <th>min</th>\n",
              "      <th>25%</th>\n",
              "      <th>50%</th>\n",
              "      <th>75%</th>\n",
              "      <th>max</th>\n",
              "    </tr>\n",
              "  </thead>\n",
              "  <tbody>\n",
              "    <tr>\n",
              "      <th>Temperature[C]</th>\n",
              "      <td>62630.0</td>\n",
              "      <td>15.970424</td>\n",
              "      <td>14.359576</td>\n",
              "      <td>-22.010</td>\n",
              "      <td>10.99425</td>\n",
              "      <td>20.130</td>\n",
              "      <td>25.4095</td>\n",
              "      <td>59.930</td>\n",
              "    </tr>\n",
              "    <tr>\n",
              "      <th>Humidity[%]</th>\n",
              "      <td>62630.0</td>\n",
              "      <td>48.539499</td>\n",
              "      <td>8.865367</td>\n",
              "      <td>10.740</td>\n",
              "      <td>47.53000</td>\n",
              "      <td>50.150</td>\n",
              "      <td>53.2400</td>\n",
              "      <td>75.200</td>\n",
              "    </tr>\n",
              "    <tr>\n",
              "      <th>TVOC[ppb]</th>\n",
              "      <td>62630.0</td>\n",
              "      <td>1942.057528</td>\n",
              "      <td>7811.589055</td>\n",
              "      <td>0.000</td>\n",
              "      <td>130.00000</td>\n",
              "      <td>981.000</td>\n",
              "      <td>1189.0000</td>\n",
              "      <td>60000.000</td>\n",
              "    </tr>\n",
              "    <tr>\n",
              "      <th>eCO2[ppm]</th>\n",
              "      <td>62630.0</td>\n",
              "      <td>670.021044</td>\n",
              "      <td>1905.885439</td>\n",
              "      <td>400.000</td>\n",
              "      <td>400.00000</td>\n",
              "      <td>400.000</td>\n",
              "      <td>438.0000</td>\n",
              "      <td>60000.000</td>\n",
              "    </tr>\n",
              "    <tr>\n",
              "      <th>Raw H2</th>\n",
              "      <td>62630.0</td>\n",
              "      <td>12942.453936</td>\n",
              "      <td>272.464305</td>\n",
              "      <td>10668.000</td>\n",
              "      <td>12830.00000</td>\n",
              "      <td>12924.000</td>\n",
              "      <td>13109.0000</td>\n",
              "      <td>13803.000</td>\n",
              "    </tr>\n",
              "    <tr>\n",
              "      <th>Raw Ethanol</th>\n",
              "      <td>62630.0</td>\n",
              "      <td>19754.257912</td>\n",
              "      <td>609.513156</td>\n",
              "      <td>15317.000</td>\n",
              "      <td>19435.00000</td>\n",
              "      <td>19501.000</td>\n",
              "      <td>20078.0000</td>\n",
              "      <td>21410.000</td>\n",
              "    </tr>\n",
              "    <tr>\n",
              "      <th>Pressure[hPa]</th>\n",
              "      <td>62630.0</td>\n",
              "      <td>938.627649</td>\n",
              "      <td>1.331344</td>\n",
              "      <td>930.852</td>\n",
              "      <td>938.70000</td>\n",
              "      <td>938.816</td>\n",
              "      <td>939.4180</td>\n",
              "      <td>939.861</td>\n",
              "    </tr>\n",
              "    <tr>\n",
              "      <th>PM1.0</th>\n",
              "      <td>62630.0</td>\n",
              "      <td>100.594309</td>\n",
              "      <td>922.524245</td>\n",
              "      <td>0.000</td>\n",
              "      <td>1.28000</td>\n",
              "      <td>1.810</td>\n",
              "      <td>2.0900</td>\n",
              "      <td>14333.690</td>\n",
              "    </tr>\n",
              "    <tr>\n",
              "      <th>PM2.5</th>\n",
              "      <td>62630.0</td>\n",
              "      <td>184.467770</td>\n",
              "      <td>1976.305615</td>\n",
              "      <td>0.000</td>\n",
              "      <td>1.34000</td>\n",
              "      <td>1.880</td>\n",
              "      <td>2.1800</td>\n",
              "      <td>45432.260</td>\n",
              "    </tr>\n",
              "    <tr>\n",
              "      <th>NC0.5</th>\n",
              "      <td>62630.0</td>\n",
              "      <td>491.463608</td>\n",
              "      <td>4265.661251</td>\n",
              "      <td>0.000</td>\n",
              "      <td>8.82000</td>\n",
              "      <td>12.450</td>\n",
              "      <td>14.4200</td>\n",
              "      <td>61482.030</td>\n",
              "    </tr>\n",
              "    <tr>\n",
              "      <th>NC1.0</th>\n",
              "      <td>62630.0</td>\n",
              "      <td>203.586487</td>\n",
              "      <td>2214.738556</td>\n",
              "      <td>0.000</td>\n",
              "      <td>1.38400</td>\n",
              "      <td>1.943</td>\n",
              "      <td>2.2490</td>\n",
              "      <td>51914.680</td>\n",
              "    </tr>\n",
              "    <tr>\n",
              "      <th>NC2.5</th>\n",
              "      <td>62630.0</td>\n",
              "      <td>80.049042</td>\n",
              "      <td>1083.383189</td>\n",
              "      <td>0.000</td>\n",
              "      <td>0.03300</td>\n",
              "      <td>0.044</td>\n",
              "      <td>0.0510</td>\n",
              "      <td>30026.438</td>\n",
              "    </tr>\n",
              "    <tr>\n",
              "      <th>CNT</th>\n",
              "      <td>62630.0</td>\n",
              "      <td>10511.386157</td>\n",
              "      <td>7597.870997</td>\n",
              "      <td>0.000</td>\n",
              "      <td>3625.25000</td>\n",
              "      <td>9336.000</td>\n",
              "      <td>17164.7500</td>\n",
              "      <td>24993.000</td>\n",
              "    </tr>\n",
              "    <tr>\n",
              "      <th>Fire Alarm</th>\n",
              "      <td>62630.0</td>\n",
              "      <td>0.714626</td>\n",
              "      <td>0.451596</td>\n",
              "      <td>0.000</td>\n",
              "      <td>0.00000</td>\n",
              "      <td>1.000</td>\n",
              "      <td>1.0000</td>\n",
              "      <td>1.000</td>\n",
              "    </tr>\n",
              "  </tbody>\n",
              "</table>\n",
              "</div>\n",
              "      <button class=\"colab-df-convert\" onclick=\"convertToInteractive('df-fdc280d0-9d12-4ac8-87d7-c4ffe834818e')\"\n",
              "              title=\"Convert this dataframe to an interactive table.\"\n",
              "              style=\"display:none;\">\n",
              "        \n",
              "  <svg xmlns=\"http://www.w3.org/2000/svg\" height=\"24px\"viewBox=\"0 0 24 24\"\n",
              "       width=\"24px\">\n",
              "    <path d=\"M0 0h24v24H0V0z\" fill=\"none\"/>\n",
              "    <path d=\"M18.56 5.44l.94 2.06.94-2.06 2.06-.94-2.06-.94-.94-2.06-.94 2.06-2.06.94zm-11 1L8.5 8.5l.94-2.06 2.06-.94-2.06-.94L8.5 2.5l-.94 2.06-2.06.94zm10 10l.94 2.06.94-2.06 2.06-.94-2.06-.94-.94-2.06-.94 2.06-2.06.94z\"/><path d=\"M17.41 7.96l-1.37-1.37c-.4-.4-.92-.59-1.43-.59-.52 0-1.04.2-1.43.59L10.3 9.45l-7.72 7.72c-.78.78-.78 2.05 0 2.83L4 21.41c.39.39.9.59 1.41.59.51 0 1.02-.2 1.41-.59l7.78-7.78 2.81-2.81c.8-.78.8-2.07 0-2.86zM5.41 20L4 18.59l7.72-7.72 1.47 1.35L5.41 20z\"/>\n",
              "  </svg>\n",
              "      </button>\n",
              "      \n",
              "  <style>\n",
              "    .colab-df-container {\n",
              "      display:flex;\n",
              "      flex-wrap:wrap;\n",
              "      gap: 12px;\n",
              "    }\n",
              "\n",
              "    .colab-df-convert {\n",
              "      background-color: #E8F0FE;\n",
              "      border: none;\n",
              "      border-radius: 50%;\n",
              "      cursor: pointer;\n",
              "      display: none;\n",
              "      fill: #1967D2;\n",
              "      height: 32px;\n",
              "      padding: 0 0 0 0;\n",
              "      width: 32px;\n",
              "    }\n",
              "\n",
              "    .colab-df-convert:hover {\n",
              "      background-color: #E2EBFA;\n",
              "      box-shadow: 0px 1px 2px rgba(60, 64, 67, 0.3), 0px 1px 3px 1px rgba(60, 64, 67, 0.15);\n",
              "      fill: #174EA6;\n",
              "    }\n",
              "\n",
              "    [theme=dark] .colab-df-convert {\n",
              "      background-color: #3B4455;\n",
              "      fill: #D2E3FC;\n",
              "    }\n",
              "\n",
              "    [theme=dark] .colab-df-convert:hover {\n",
              "      background-color: #434B5C;\n",
              "      box-shadow: 0px 1px 3px 1px rgba(0, 0, 0, 0.15);\n",
              "      filter: drop-shadow(0px 1px 2px rgba(0, 0, 0, 0.3));\n",
              "      fill: #FFFFFF;\n",
              "    }\n",
              "  </style>\n",
              "\n",
              "      <script>\n",
              "        const buttonEl =\n",
              "          document.querySelector('#df-fdc280d0-9d12-4ac8-87d7-c4ffe834818e button.colab-df-convert');\n",
              "        buttonEl.style.display =\n",
              "          google.colab.kernel.accessAllowed ? 'block' : 'none';\n",
              "\n",
              "        async function convertToInteractive(key) {\n",
              "          const element = document.querySelector('#df-fdc280d0-9d12-4ac8-87d7-c4ffe834818e');\n",
              "          const dataTable =\n",
              "            await google.colab.kernel.invokeFunction('convertToInteractive',\n",
              "                                                     [key], {});\n",
              "          if (!dataTable) return;\n",
              "\n",
              "          const docLinkHtml = 'Like what you see? Visit the ' +\n",
              "            '<a target=\"_blank\" href=https://colab.research.google.com/notebooks/data_table.ipynb>data table notebook</a>'\n",
              "            + ' to learn more about interactive tables.';\n",
              "          element.innerHTML = '';\n",
              "          dataTable['output_type'] = 'display_data';\n",
              "          await google.colab.output.renderOutput(dataTable, element);\n",
              "          const docLink = document.createElement('div');\n",
              "          docLink.innerHTML = docLinkHtml;\n",
              "          element.appendChild(docLink);\n",
              "        }\n",
              "      </script>\n",
              "    </div>\n",
              "  </div>\n",
              "  "
            ]
          },
          "metadata": {},
          "execution_count": 11
        }
      ],
      "source": [
        "df.describe().T"
      ]
    },
    {
      "cell_type": "markdown",
      "metadata": {
        "id": "6IVS2IOMAhyJ"
      },
      "source": [
        "*Plotting Correlations between Independent Features and the Target Variable*\n"
      ]
    },
    {
      "cell_type": "code",
      "execution_count": 12,
      "metadata": {
        "id": "LVs-hR9QATa1",
        "outputId": "5c2a6a2a-145b-4fed-edd9-f7a5696038be",
        "colab": {
          "base_uri": "https://localhost:8080/",
          "height": 1000
        }
      },
      "outputs": [
        {
          "output_type": "stream",
          "name": "stderr",
          "text": [
            "<ipython-input-12-1d916b047bfa>:7: MatplotlibDeprecationWarning: Passing the minor parameter of set_xticks() positionally is deprecated since Matplotlib 3.2; the parameter will become keyword-only two minor releases later.\n",
            "  subplot.set_xticks([0, 1], ['No Alarm', 'Alarm'])\n",
            "<ipython-input-12-1d916b047bfa>:7: MatplotlibDeprecationWarning: Passing the minor parameter of set_xticks() positionally is deprecated since Matplotlib 3.2; the parameter will become keyword-only two minor releases later.\n",
            "  subplot.set_xticks([0, 1], ['No Alarm', 'Alarm'])\n",
            "<ipython-input-12-1d916b047bfa>:7: MatplotlibDeprecationWarning: Passing the minor parameter of set_xticks() positionally is deprecated since Matplotlib 3.2; the parameter will become keyword-only two minor releases later.\n",
            "  subplot.set_xticks([0, 1], ['No Alarm', 'Alarm'])\n",
            "<ipython-input-12-1d916b047bfa>:7: MatplotlibDeprecationWarning: Passing the minor parameter of set_xticks() positionally is deprecated since Matplotlib 3.2; the parameter will become keyword-only two minor releases later.\n",
            "  subplot.set_xticks([0, 1], ['No Alarm', 'Alarm'])\n",
            "<ipython-input-12-1d916b047bfa>:7: MatplotlibDeprecationWarning: Passing the minor parameter of set_xticks() positionally is deprecated since Matplotlib 3.2; the parameter will become keyword-only two minor releases later.\n",
            "  subplot.set_xticks([0, 1], ['No Alarm', 'Alarm'])\n",
            "<ipython-input-12-1d916b047bfa>:7: MatplotlibDeprecationWarning: Passing the minor parameter of set_xticks() positionally is deprecated since Matplotlib 3.2; the parameter will become keyword-only two minor releases later.\n",
            "  subplot.set_xticks([0, 1], ['No Alarm', 'Alarm'])\n",
            "<ipython-input-12-1d916b047bfa>:7: MatplotlibDeprecationWarning: Passing the minor parameter of set_xticks() positionally is deprecated since Matplotlib 3.2; the parameter will become keyword-only two minor releases later.\n",
            "  subplot.set_xticks([0, 1], ['No Alarm', 'Alarm'])\n",
            "<ipython-input-12-1d916b047bfa>:7: MatplotlibDeprecationWarning: Passing the minor parameter of set_xticks() positionally is deprecated since Matplotlib 3.2; the parameter will become keyword-only two minor releases later.\n",
            "  subplot.set_xticks([0, 1], ['No Alarm', 'Alarm'])\n",
            "<ipython-input-12-1d916b047bfa>:7: MatplotlibDeprecationWarning: Passing the minor parameter of set_xticks() positionally is deprecated since Matplotlib 3.2; the parameter will become keyword-only two minor releases later.\n",
            "  subplot.set_xticks([0, 1], ['No Alarm', 'Alarm'])\n",
            "<ipython-input-12-1d916b047bfa>:7: MatplotlibDeprecationWarning: Passing the minor parameter of set_xticks() positionally is deprecated since Matplotlib 3.2; the parameter will become keyword-only two minor releases later.\n",
            "  subplot.set_xticks([0, 1], ['No Alarm', 'Alarm'])\n",
            "<ipython-input-12-1d916b047bfa>:7: MatplotlibDeprecationWarning: Passing the minor parameter of set_xticks() positionally is deprecated since Matplotlib 3.2; the parameter will become keyword-only two minor releases later.\n",
            "  subplot.set_xticks([0, 1], ['No Alarm', 'Alarm'])\n",
            "<ipython-input-12-1d916b047bfa>:7: MatplotlibDeprecationWarning: Passing the minor parameter of set_xticks() positionally is deprecated since Matplotlib 3.2; the parameter will become keyword-only two minor releases later.\n",
            "  subplot.set_xticks([0, 1], ['No Alarm', 'Alarm'])\n",
            "<ipython-input-12-1d916b047bfa>:7: MatplotlibDeprecationWarning: Passing the minor parameter of set_xticks() positionally is deprecated since Matplotlib 3.2; the parameter will become keyword-only two minor releases later.\n",
            "  subplot.set_xticks([0, 1], ['No Alarm', 'Alarm'])\n"
          ]
        },
        {
          "output_type": "display_data",
          "data": {
            "text/plain": [
              "<Figure size 1080x1440 with 14 Axes>"
            ],
            "image/png": "[encoded data removed]"
          },
          "metadata": {
            "needs_background": "light"
          }
        }
      ],
      "source": [
        "fig, ax = plt.subplots(nrows = 7, ncols = 2, figsize = (15, 20))\n",
        "\n",
        "for feature, subplot in zip(df, ax.flatten()):\n",
        "    if feature == 'Fire Alarm':\n",
        "        continue\n",
        "    sns.boxplot(x = df['Fire Alarm'], y = df[feature], showfliers = False, ax = subplot)\n",
        "    subplot.set_xticks([0, 1], ['No Alarm', 'Alarm'])\n",
        "\n",
        "plt.suptitle('Feature Correlations with Target Variable (Fire Alarm)', fontsize = 20)\n",
        "plt.tight_layout(pad = 2)\n",
        "plt.show()"
      ]
    },
    {
      "cell_type": "markdown",
      "metadata": {
        "id": "IApVm9oGBlfc"
      },
      "source": [
        "**Correlation Matrix**"
      ]
    },
    {
      "cell_type": "code",
      "execution_count": 13,
      "metadata": {
        "id": "hQyJuVyZB5TB",
        "outputId": "fa75bc90-57cf-411e-ea21-80c3ed8b7a4b",
        "colab": {
          "base_uri": "https://localhost:8080/",
          "height": 489
        }
      },
      "outputs": [
        {
          "output_type": "execute_result",
          "data": {
            "text/plain": [
              "                Temperature[C]  Humidity[%]  TVOC[ppb]  eCO2[ppm]    Raw H2  \\\n",
              "Temperature[C]        1.000000    -0.243986   0.082442   0.079265 -0.135540   \n",
              "Humidity[%]          -0.243986     1.000000  -0.488878  -0.369095  0.247199   \n",
              "TVOC[ppb]             0.082442    -0.488878   1.000000   0.606118 -0.653053   \n",
              "eCO2[ppm]             0.079265    -0.369095   0.606118   1.000000 -0.682785   \n",
              "Raw H2               -0.135540     0.247199  -0.653053  -0.682785  1.000000   \n",
              "Raw Ethanol          -0.037343     0.068782  -0.673715  -0.506695  0.631495   \n",
              "Pressure[hPa]        -0.251203     0.694614  -0.220004  -0.326043  0.303090   \n",
              "PM1.0                 0.037330    -0.236538   0.597366   0.665482 -0.530714   \n",
              "PM2.5                 0.032084    -0.178882   0.477424   0.572691 -0.431079   \n",
              "NC0.5                 0.039291    -0.277389   0.670657   0.699604 -0.587769   \n",
              "NC1.0                 0.031608    -0.174224   0.467386   0.564252 -0.422626   \n",
              "NC2.5                 0.025526    -0.118502   0.344721   0.456323 -0.318518   \n",
              "CNT                  -0.089850     0.251965  -0.057703  -0.106681 -0.031036   \n",
              "Fire Alarm           -0.163902     0.399846  -0.214743  -0.097006  0.107007   \n",
              "\n",
              "                Raw Ethanol  Pressure[hPa]     PM1.0     PM2.5     NC0.5  \\\n",
              "Temperature[C]    -0.037343      -0.251203  0.037330  0.032084  0.039291   \n",
              "Humidity[%]        0.068782       0.694614 -0.236538 -0.178882 -0.277389   \n",
              "TVOC[ppb]         -0.673715      -0.220004  0.597366  0.477424  0.670657   \n",
              "eCO2[ppm]         -0.506695      -0.326043  0.665482  0.572691  0.699604   \n",
              "Raw H2             0.631495       0.303090 -0.530714 -0.431079 -0.587769   \n",
              "Raw Ethanol        1.000000      -0.075926 -0.480698 -0.393192 -0.529186   \n",
              "Pressure[hPa]     -0.075926       1.000000 -0.258938 -0.243071 -0.248657   \n",
              "PM1.0             -0.480698      -0.258938  1.000000  0.956118  0.940045   \n",
              "PM2.5             -0.393192      -0.243071  0.956118  1.000000  0.798873   \n",
              "NC0.5             -0.529186      -0.248657  0.940045  0.798873  1.000000   \n",
              "NC1.0             -0.385720      -0.241148  0.949860  0.999787  0.786274   \n",
              "NC2.5             -0.293351      -0.213390  0.854901  0.969382  0.626711   \n",
              "CNT               -0.511995       0.186290 -0.093700 -0.083869 -0.094741   \n",
              "Fire Alarm        -0.340652       0.249797 -0.110552 -0.084916 -0.128118   \n",
              "\n",
              "                   NC1.0     NC2.5       CNT  Fire Alarm  \n",
              "Temperature[C]  0.031608  0.025526 -0.089850   -0.163902  \n",
              "Humidity[%]    -0.174224 -0.118502  0.251965    0.399846  \n",
              "TVOC[ppb]       0.467386  0.344721 -0.057703   -0.214743  \n",
              "eCO2[ppm]       0.564252  0.456323 -0.106681   -0.097006  \n",
              "Raw H2         -0.422626 -0.318518 -0.031036    0.107007  \n",
              "Raw Ethanol    -0.385720 -0.293351 -0.511995   -0.340652  \n",
              "Pressure[hPa]  -0.241148 -0.213390  0.186290    0.249797  \n",
              "PM1.0           0.949860  0.854901 -0.093700   -0.110552  \n",
              "PM2.5           0.999787  0.969382 -0.083869   -0.084916  \n",
              "NC0.5           0.786274  0.626711 -0.094741   -0.128118  \n",
              "NC1.0           1.000000  0.974249 -0.082898   -0.082828  \n",
              "NC2.5           0.974249  1.000000 -0.069977   -0.057707  \n",
              "CNT            -0.082898 -0.069977  1.000000    0.673762  \n",
              "Fire Alarm     -0.082828 -0.057707  0.673762    1.000000  "
            ],
            "text/html": [
              "\n",
              "  <div id=\"df-f2554493-a4a7-4f50-81f5-24322dfc57e1\">\n",
              "    <div class=\"colab-df-container\">\n",
              "      <div>\n",
              "<style scoped>\n",
              "    .dataframe tbody tr th:only-of-type {\n",
              "        vertical-align: middle;\n",
              "    }\n",
              "\n",
              "    .dataframe tbody tr th {\n",
              "        vertical-align: top;\n",
              "    }\n",
              "\n",
              "    .dataframe thead th {\n",
              "        text-align: right;\n",
              "    }\n",
              "</style>\n",
              "<table border=\"1\" class=\"dataframe\">\n",
              "  <thead>\n",
              "    <tr style=\"text-align: right;\">\n",
              "      <th></th>\n",
              "      <th>Temperature[C]</th>\n",
              "      <th>Humidity[%]</th>\n",
              "      <th>TVOC[ppb]</th>\n",
              "      <th>eCO2[ppm]</th>\n",
              "      <th>Raw H2</th>\n",
              "      <th>Raw Ethanol</th>\n",
              "      <th>Pressure[hPa]</th>\n",
              "      <th>PM1.0</th>\n",
              "      <th>PM2.5</th>\n",
              "      <th>NC0.5</th>\n",
              "      <th>NC1.0</th>\n",
              "      <th>NC2.5</th>\n",
              "      <th>CNT</th>\n",
              "      <th>Fire Alarm</th>\n",
              "    </tr>\n",
              "  </thead>\n",
              "  <tbody>\n",
              "    <tr>\n",
              "      <th>Temperature[C]</th>\n",
              "      <td>1.000000</td>\n",
              "      <td>-0.243986</td>\n",
              "      <td>0.082442</td>\n",
              "      <td>0.079265</td>\n",
              "      <td>-0.135540</td>\n",
              "      <td>-0.037343</td>\n",
              "      <td>-0.251203</td>\n",
              "      <td>0.037330</td>\n",
              "      <td>0.032084</td>\n",
              "      <td>0.039291</td>\n",
              "      <td>0.031608</td>\n",
              "      <td>0.025526</td>\n",
              "      <td>-0.089850</td>\n",
              "      <td>-0.163902</td>\n",
              "    </tr>\n",
              "    <tr>\n",
              "      <th>Humidity[%]</th>\n",
              "      <td>-0.243986</td>\n",
              "      <td>1.000000</td>\n",
              "      <td>-0.488878</td>\n",
              "      <td>-0.369095</td>\n",
              "      <td>0.247199</td>\n",
              "      <td>0.068782</td>\n",
              "      <td>0.694614</td>\n",
              "      <td>-0.236538</td>\n",
              "      <td>-0.178882</td>\n",
              "      <td>-0.277389</td>\n",
              "      <td>-0.174224</td>\n",
              "      <td>-0.118502</td>\n",
              "      <td>0.251965</td>\n",
              "      <td>0.399846</td>\n",
              "    </tr>\n",
              "    <tr>\n",
              "      <th>TVOC[ppb]</th>\n",
              "      <td>0.082442</td>\n",
              "      <td>-0.488878</td>\n",
              "      <td>1.000000</td>\n",
              "      <td>0.606118</td>\n",
              "      <td>-0.653053</td>\n",
              "      <td>-0.673715</td>\n",
              "      <td>-0.220004</td>\n",
              "      <td>0.597366</td>\n",
              "      <td>0.477424</td>\n",
              "      <td>0.670657</td>\n",
              "      <td>0.467386</td>\n",
              "      <td>0.344721</td>\n",
              "      <td>-0.057703</td>\n",
              "      <td>-0.214743</td>\n",
              "    </tr>\n",
              "    <tr>\n",
              "      <th>eCO2[ppm]</th>\n",
              "      <td>0.079265</td>\n",
              "      <td>-0.369095</td>\n",
              "      <td>0.606118</td>\n",
              "      <td>1.000000</td>\n",
              "      <td>-0.682785</td>\n",
              "      <td>-0.506695</td>\n",
              "      <td>-0.326043</td>\n",
              "      <td>0.665482</td>\n",
              "      <td>0.572691</td>\n",
              "      <td>0.699604</td>\n",
              "      <td>0.564252</td>\n",
              "      <td>0.456323</td>\n",
              "      <td>-0.106681</td>\n",
              "      <td>-0.097006</td>\n",
              "    </tr>\n",
              "    <tr>\n",
              "      <th>Raw H2</th>\n",
              "      <td>-0.135540</td>\n",
              "      <td>0.247199</td>\n",
              "      <td>-0.653053</td>\n",
              "      <td>-0.682785</td>\n",
              "      <td>1.000000</td>\n",
              "      <td>0.631495</td>\n",
              "      <td>0.303090</td>\n",
              "      <td>-0.530714</td>\n",
              "      <td>-0.431079</td>\n",
              "      <td>-0.587769</td>\n",
              "      <td>-0.422626</td>\n",
              "      <td>-0.318518</td>\n",
              "      <td>-0.031036</td>\n",
              "      <td>0.107007</td>\n",
              "    </tr>\n",
              "    <tr>\n",
              "      <th>Raw Ethanol</th>\n",
              "      <td>-0.037343</td>\n",
              "      <td>0.068782</td>\n",
              "      <td>-0.673715</td>\n",
              "      <td>-0.506695</td>\n",
              "      <td>0.631495</td>\n",
              "      <td>1.000000</td>\n",
              "      <td>-0.075926</td>\n",
              "      <td>-0.480698</td>\n",
              "      <td>-0.393192</td>\n",
              "      <td>-0.529186</td>\n",
              "      <td>-0.385720</td>\n",
              "      <td>-0.293351</td>\n",
              "      <td>-0.511995</td>\n",
              "      <td>-0.340652</td>\n",
              "    </tr>\n",
              "    <tr>\n",
              "      <th>Pressure[hPa]</th>\n",
              "      <td>-0.251203</td>\n",
              "      <td>0.694614</td>\n",
              "      <td>-0.220004</td>\n",
              "      <td>-0.326043</td>\n",
              "      <td>0.303090</td>\n",
              "      <td>-0.075926</td>\n",
              "      <td>1.000000</td>\n",
              "      <td>-0.258938</td>\n",
              "      <td>-0.243071</td>\n",
              "      <td>-0.248657</td>\n",
              "      <td>-0.241148</td>\n",
              "      <td>-0.213390</td>\n",
              "      <td>0.186290</td>\n",
              "      <td>0.249797</td>\n",
              "    </tr>\n",
              "    <tr>\n",
              "      <th>PM1.0</th>\n",
              "      <td>0.037330</td>\n",
              "      <td>-0.236538</td>\n",
              "      <td>0.597366</td>\n",
              "      <td>0.665482</td>\n",
              "      <td>-0.530714</td>\n",
              "      <td>-0.480698</td>\n",
              "      <td>-0.258938</td>\n",
              "      <td>1.000000</td>\n",
              "      <td>0.956118</td>\n",
              "      <td>0.940045</td>\n",
              "      <td>0.949860</td>\n",
              "      <td>0.854901</td>\n",
              "      <td>-0.093700</td>\n",
              "      <td>-0.110552</td>\n",
              "    </tr>\n",
              "    <tr>\n",
              "      <th>PM2.5</th>\n",
              "      <td>0.032084</td>\n",
              "      <td>-0.178882</td>\n",
              "      <td>0.477424</td>\n",
              "      <td>0.572691</td>\n",
              "      <td>-0.431079</td>\n",
              "      <td>-0.393192</td>\n",
              "      <td>-0.243071</td>\n",
              "      <td>0.956118</td>\n",
              "      <td>1.000000</td>\n",
              "      <td>0.798873</td>\n",
              "      <td>0.999787</td>\n",
              "      <td>0.969382</td>\n",
              "      <td>-0.083869</td>\n",
              "      <td>-0.084916</td>\n",
              "    </tr>\n",
              "    <tr>\n",
              "      <th>NC0.5</th>\n",
              "      <td>0.039291</td>\n",
              "      <td>-0.277389</td>\n",
              "      <td>0.670657</td>\n",
              "      <td>0.699604</td>\n",
              "      <td>-0.587769</td>\n",
              "      <td>-0.529186</td>\n",
              "      <td>-0.248657</td>\n",
              "      <td>0.940045</td>\n",
              "      <td>0.798873</td>\n",
              "      <td>1.000000</td>\n",
              "      <td>0.786274</td>\n",
              "      <td>0.626711</td>\n",
              "      <td>-0.094741</td>\n",
              "      <td>-0.128118</td>\n",
              "    </tr>\n",
              "    <tr>\n",
              "      <th>NC1.0</th>\n",
              "      <td>0.031608</td>\n",
              "      <td>-0.174224</td>\n",
              "      <td>0.467386</td>\n",
              "      <td>0.564252</td>\n",
              "      <td>-0.422626</td>\n",
              "      <td>-0.385720</td>\n",
              "      <td>-0.241148</td>\n",
              "      <td>0.949860</td>\n",
              "      <td>0.999787</td>\n",
              "      <td>0.786274</td>\n",
              "      <td>1.000000</td>\n",
              "      <td>0.974249</td>\n",
              "      <td>-0.082898</td>\n",
              "      <td>-0.082828</td>\n",
              "    </tr>\n",
              "    <tr>\n",
              "      <th>NC2.5</th>\n",
              "      <td>0.025526</td>\n",
              "      <td>-0.118502</td>\n",
              "      <td>0.344721</td>\n",
              "      <td>0.456323</td>\n",
              "      <td>-0.318518</td>\n",
              "      <td>-0.293351</td>\n",
              "      <td>-0.213390</td>\n",
              "      <td>0.854901</td>\n",
              "      <td>0.969382</td>\n",
              "      <td>0.626711</td>\n",
              "      <td>0.974249</td>\n",
              "      <td>1.000000</td>\n",
              "      <td>-0.069977</td>\n",
              "      <td>-0.057707</td>\n",
              "    </tr>\n",
              "    <tr>\n",
              "      <th>CNT</th>\n",
              "      <td>-0.089850</td>\n",
              "      <td>0.251965</td>\n",
              "      <td>-0.057703</td>\n",
              "      <td>-0.106681</td>\n",
              "      <td>-0.031036</td>\n",
              "      <td>-0.511995</td>\n",
              "      <td>0.186290</td>\n",
              "      <td>-0.093700</td>\n",
              "      <td>-0.083869</td>\n",
              "      <td>-0.094741</td>\n",
              "      <td>-0.082898</td>\n",
              "      <td>-0.069977</td>\n",
              "      <td>1.000000</td>\n",
              "      <td>0.673762</td>\n",
              "    </tr>\n",
              "    <tr>\n",
              "      <th>Fire Alarm</th>\n",
              "      <td>-0.163902</td>\n",
              "      <td>0.399846</td>\n",
              "      <td>-0.214743</td>\n",
              "      <td>-0.097006</td>\n",
              "      <td>0.107007</td>\n",
              "      <td>-0.340652</td>\n",
              "      <td>0.249797</td>\n",
              "      <td>-0.110552</td>\n",
              "      <td>-0.084916</td>\n",
              "      <td>-0.128118</td>\n",
              "      <td>-0.082828</td>\n",
              "      <td>-0.057707</td>\n",
              "      <td>0.673762</td>\n",
              "      <td>1.000000</td>\n",
              "    </tr>\n",
              "  </tbody>\n",
              "</table>\n",
              "</div>\n",
              "      <button class=\"colab-df-convert\" onclick=\"convertToInteractive('df-f2554493-a4a7-4f50-81f5-24322dfc57e1')\"\n",
              "              title=\"Convert this dataframe to an interactive table.\"\n",
              "              style=\"display:none;\">\n",
              "        \n",
              "  <svg xmlns=\"http://www.w3.org/2000/svg\" height=\"24px\"viewBox=\"0 0 24 24\"\n",
              "       width=\"24px\">\n",
              "    <path d=\"M0 0h24v24H0V0z\" fill=\"none\"/>\n",
              "    <path d=\"M18.56 5.44l.94 2.06.94-2.06 2.06-.94-2.06-.94-.94-2.06-.94 2.06-2.06.94zm-11 1L8.5 8.5l.94-2.06 2.06-.94-2.06-.94L8.5 2.5l-.94 2.06-2.06.94zm10 10l.94 2.06.94-2.06 2.06-.94-2.06-.94-.94-2.06-.94 2.06-2.06.94z\"/><path d=\"M17.41 7.96l-1.37-1.37c-.4-.4-.92-.59-1.43-.59-.52 0-1.04.2-1.43.59L10.3 9.45l-7.72 7.72c-.78.78-.78 2.05 0 2.83L4 21.41c.39.39.9.59 1.41.59.51 0 1.02-.2 1.41-.59l7.78-7.78 2.81-2.81c.8-.78.8-2.07 0-2.86zM5.41 20L4 18.59l7.72-7.72 1.47 1.35L5.41 20z\"/>\n",
              "  </svg>\n",
              "      </button>\n",
              "      \n",
              "  <style>\n",
              "    .colab-df-container {\n",
              "      display:flex;\n",
              "      flex-wrap:wrap;\n",
              "      gap: 12px;\n",
              "    }\n",
              "\n",
              "    .colab-df-convert {\n",
              "      background-color: #E8F0FE;\n",
              "      border: none;\n",
              "      border-radius: 50%;\n",
              "      cursor: pointer;\n",
              "      display: none;\n",
              "      fill: #1967D2;\n",
              "      height: 32px;\n",
              "      padding: 0 0 0 0;\n",
              "      width: 32px;\n",
              "    }\n",
              "\n",
              "    .colab-df-convert:hover {\n",
              "      background-color: #E2EBFA;\n",
              "      box-shadow: 0px 1px 2px rgba(60, 64, 67, 0.3), 0px 1px 3px 1px rgba(60, 64, 67, 0.15);\n",
              "      fill: #174EA6;\n",
              "    }\n",
              "\n",
              "    [theme=dark] .colab-df-convert {\n",
              "      background-color: #3B4455;\n",
              "      fill: #D2E3FC;\n",
              "    }\n",
              "\n",
              "    [theme=dark] .colab-df-convert:hover {\n",
              "      background-color: #434B5C;\n",
              "      box-shadow: 0px 1px 3px 1px rgba(0, 0, 0, 0.15);\n",
              "      filter: drop-shadow(0px 1px 2px rgba(0, 0, 0, 0.3));\n",
              "      fill: #FFFFFF;\n",
              "    }\n",
              "  </style>\n",
              "\n",
              "      <script>\n",
              "        const buttonEl =\n",
              "          document.querySelector('#df-f2554493-a4a7-4f50-81f5-24322dfc57e1 button.colab-df-convert');\n",
              "        buttonEl.style.display =\n",
              "          google.colab.kernel.accessAllowed ? 'block' : 'none';\n",
              "\n",
              "        async function convertToInteractive(key) {\n",
              "          const element = document.querySelector('#df-f2554493-a4a7-4f50-81f5-24322dfc57e1');\n",
              "          const dataTable =\n",
              "            await google.colab.kernel.invokeFunction('convertToInteractive',\n",
              "                                                     [key], {});\n",
              "          if (!dataTable) return;\n",
              "\n",
              "          const docLinkHtml = 'Like what you see? Visit the ' +\n",
              "            '<a target=\"_blank\" href=https://colab.research.google.com/notebooks/data_table.ipynb>data table notebook</a>'\n",
              "            + ' to learn more about interactive tables.';\n",
              "          element.innerHTML = '';\n",
              "          dataTable['output_type'] = 'display_data';\n",
              "          await google.colab.output.renderOutput(dataTable, element);\n",
              "          const docLink = document.createElement('div');\n",
              "          docLink.innerHTML = docLinkHtml;\n",
              "          element.appendChild(docLink);\n",
              "        }\n",
              "      </script>\n",
              "    </div>\n",
              "  </div>\n",
              "  "
            ]
          },
          "metadata": {},
          "execution_count": 13
        }
      ],
      "source": [
        "corr = df.corr()\n",
        "corr"
      ]
    },
    {
      "cell_type": "markdown",
      "metadata": {
        "id": "IyuBei5HB-Is"
      },
      "source": [
        "**Correlation Heat Map**"
      ]
    },
    {
      "cell_type": "code",
      "execution_count": 14,
      "metadata": {
        "id": "Zk66VfIqCDj7",
        "outputId": "fd9df4ec-897b-47ba-dca5-0ade206493e1",
        "colab": {
          "base_uri": "https://localhost:8080/",
          "height": 789
        }
      },
      "outputs": [
        {
          "output_type": "display_data",
          "data": {
            "text/plain": [
              "<Figure size 1008x864 with 2 Axes>"
            ],
            "image/png": "[encoded data removed]"
          },
          "metadata": {
            "needs_background": "light"
          }
        }
      ],
      "source": [
        "plt.figure(figsize = (14, 12))\n",
        "sns.heatmap(corr, annot = True, fmt = '.2f')\n",
        "plt.title('Heatmap', fontsize = 20)\n",
        "plt.show()"
      ]
    },
    {
      "cell_type": "code",
      "source": [
        "# Removing highly correlated features having correlation > 0.90\n",
        "cor_matrix = df.corr().abs()\n",
        "upper_tri = cor_matrix.where(np.triu(np.ones(cor_matrix.shape),k=1).astype(np.bool))\n",
        "to_drop = [column for column in upper_tri.columns if any(upper_tri[column] > 0.90)]\n",
        "df = df.drop(to_drop, axis=1)\n",
        "print(df)\n",
        "#data.info()"
      ],
      "metadata": {
        "id": "0f5zX500jXrY",
        "outputId": "055d3bd7-550d-4a37-e05f-fd296e3802e9",
        "colab": {
          "base_uri": "https://localhost:8080/"
        }
      },
      "execution_count": 15,
      "outputs": [
        {
          "output_type": "stream",
          "name": "stdout",
          "text": [
            "       Temperature[C]  Humidity[%]  TVOC[ppb]  eCO2[ppm]  Raw H2  Raw Ethanol  \\\n",
            "0              20.000        57.36          0        400   12306        18520   \n",
            "1              20.015        56.67          0        400   12345        18651   \n",
            "2              20.029        55.96          0        400   12374        18764   \n",
            "3              20.044        55.28          0        400   12390        18849   \n",
            "4              20.059        54.69          0        400   12403        18921   \n",
            "...               ...          ...        ...        ...     ...          ...   \n",
            "62625          18.438        15.79        625        400   13723        20569   \n",
            "62626          18.653        15.87        612        400   13731        20588   \n",
            "62627          18.867        15.84        627        400   13725        20582   \n",
            "62628          19.083        16.04        638        400   13712        20566   \n",
            "62629          19.299        16.52        643        400   13696        20543   \n",
            "\n",
            "       Pressure[hPa]  PM1.0   CNT  Fire Alarm  \n",
            "0            939.735   0.00     0           0  \n",
            "1            939.744   0.00     1           0  \n",
            "2            939.738   0.00     2           0  \n",
            "3            939.736   0.00     3           0  \n",
            "4            939.744   0.00     4           0  \n",
            "...              ...    ...   ...         ...  \n",
            "62625        936.670   0.63  5739           0  \n",
            "62626        936.678   0.61  5740           0  \n",
            "62627        936.687   0.57  5741           0  \n",
            "62628        936.680   0.57  5742           0  \n",
            "62629        936.676   0.57  5743           0  \n",
            "\n",
            "[62630 rows x 10 columns]\n"
          ]
        },
        {
          "output_type": "stream",
          "name": "stderr",
          "text": [
            "<ipython-input-15-41b2b78b0c22>:3: DeprecationWarning: `np.bool` is a deprecated alias for the builtin `bool`. To silence this warning, use `bool` by itself. Doing this will not modify any behavior and is safe. If you specifically wanted the numpy scalar type, use `np.bool_` here.\n",
            "Deprecated in NumPy 1.20; for more details and guidance: https://numpy.org/devdocs/release/1.20.0-notes.html#deprecations\n",
            "  upper_tri = cor_matrix.where(np.triu(np.ones(cor_matrix.shape),k=1).astype(np.bool))\n"
          ]
        }
      ]
    },
    {
      "cell_type": "code",
      "source": [
        "corr1 = df.corr()\n",
        "corr1"
      ],
      "metadata": {
        "id": "Z8etjBeZjaXE",
        "outputId": "ce309283-f0a6-44af-f09c-711e55bd1221",
        "colab": {
          "base_uri": "https://localhost:8080/",
          "height": 363
        }
      },
      "execution_count": 16,
      "outputs": [
        {
          "output_type": "execute_result",
          "data": {
            "text/plain": [
              "                Temperature[C]  Humidity[%]  TVOC[ppb]  eCO2[ppm]    Raw H2  \\\n",
              "Temperature[C]        1.000000    -0.243986   0.082442   0.079265 -0.135540   \n",
              "Humidity[%]          -0.243986     1.000000  -0.488878  -0.369095  0.247199   \n",
              "TVOC[ppb]             0.082442    -0.488878   1.000000   0.606118 -0.653053   \n",
              "eCO2[ppm]             0.079265    -0.369095   0.606118   1.000000 -0.682785   \n",
              "Raw H2               -0.135540     0.247199  -0.653053  -0.682785  1.000000   \n",
              "Raw Ethanol          -0.037343     0.068782  -0.673715  -0.506695  0.631495   \n",
              "Pressure[hPa]        -0.251203     0.694614  -0.220004  -0.326043  0.303090   \n",
              "PM1.0                 0.037330    -0.236538   0.597366   0.665482 -0.530714   \n",
              "CNT                  -0.089850     0.251965  -0.057703  -0.106681 -0.031036   \n",
              "Fire Alarm           -0.163902     0.399846  -0.214743  -0.097006  0.107007   \n",
              "\n",
              "                Raw Ethanol  Pressure[hPa]     PM1.0       CNT  Fire Alarm  \n",
              "Temperature[C]    -0.037343      -0.251203  0.037330 -0.089850   -0.163902  \n",
              "Humidity[%]        0.068782       0.694614 -0.236538  0.251965    0.399846  \n",
              "TVOC[ppb]         -0.673715      -0.220004  0.597366 -0.057703   -0.214743  \n",
              "eCO2[ppm]         -0.506695      -0.326043  0.665482 -0.106681   -0.097006  \n",
              "Raw H2             0.631495       0.303090 -0.530714 -0.031036    0.107007  \n",
              "Raw Ethanol        1.000000      -0.075926 -0.480698 -0.511995   -0.340652  \n",
              "Pressure[hPa]     -0.075926       1.000000 -0.258938  0.186290    0.249797  \n",
              "PM1.0             -0.480698      -0.258938  1.000000 -0.093700   -0.110552  \n",
              "CNT               -0.511995       0.186290 -0.093700  1.000000    0.673762  \n",
              "Fire Alarm        -0.340652       0.249797 -0.110552  0.673762    1.000000  "
            ],
            "text/html": [
              "\n",
              "  <div id=\"df-9ce9066f-61bf-4189-bcfe-92cd5b911929\">\n",
              "    <div class=\"colab-df-container\">\n",
              "      <div>\n",
              "<style scoped>\n",
              "    .dataframe tbody tr th:only-of-type {\n",
              "        vertical-align: middle;\n",
              "    }\n",
              "\n",
              "    .dataframe tbody tr th {\n",
              "        vertical-align: top;\n",
              "    }\n",
              "\n",
              "    .dataframe thead th {\n",
              "        text-align: right;\n",
              "    }\n",
              "</style>\n",
              "<table border=\"1\" class=\"dataframe\">\n",
              "  <thead>\n",
              "    <tr style=\"text-align: right;\">\n",
              "      <th></th>\n",
              "      <th>Temperature[C]</th>\n",
              "      <th>Humidity[%]</th>\n",
              "      <th>TVOC[ppb]</th>\n",
              "      <th>eCO2[ppm]</th>\n",
              "      <th>Raw H2</th>\n",
              "      <th>Raw Ethanol</th>\n",
              "      <th>Pressure[hPa]</th>\n",
              "      <th>PM1.0</th>\n",
              "      <th>CNT</th>\n",
              "      <th>Fire Alarm</th>\n",
              "    </tr>\n",
              "  </thead>\n",
              "  <tbody>\n",
              "    <tr>\n",
              "      <th>Temperature[C]</th>\n",
              "      <td>1.000000</td>\n",
              "      <td>-0.243986</td>\n",
              "      <td>0.082442</td>\n",
              "      <td>0.079265</td>\n",
              "      <td>-0.135540</td>\n",
              "      <td>-0.037343</td>\n",
              "      <td>-0.251203</td>\n",
              "      <td>0.037330</td>\n",
              "      <td>-0.089850</td>\n",
              "      <td>-0.163902</td>\n",
              "    </tr>\n",
              "    <tr>\n",
              "      <th>Humidity[%]</th>\n",
              "      <td>-0.243986</td>\n",
              "      <td>1.000000</td>\n",
              "      <td>-0.488878</td>\n",
              "      <td>-0.369095</td>\n",
              "      <td>0.247199</td>\n",
              "      <td>0.068782</td>\n",
              "      <td>0.694614</td>\n",
              "      <td>-0.236538</td>\n",
              "      <td>0.251965</td>\n",
              "      <td>0.399846</td>\n",
              "    </tr>\n",
              "    <tr>\n",
              "      <th>TVOC[ppb]</th>\n",
              "      <td>0.082442</td>\n",
              "      <td>-0.488878</td>\n",
              "      <td>1.000000</td>\n",
              "      <td>0.606118</td>\n",
              "      <td>-0.653053</td>\n",
              "      <td>-0.673715</td>\n",
              "      <td>-0.220004</td>\n",
              "      <td>0.597366</td>\n",
              "      <td>-0.057703</td>\n",
              "      <td>-0.214743</td>\n",
              "    </tr>\n",
              "    <tr>\n",
              "      <th>eCO2[ppm]</th>\n",
              "      <td>0.079265</td>\n",
              "      <td>-0.369095</td>\n",
              "      <td>0.606118</td>\n",
              "      <td>1.000000</td>\n",
              "      <td>-0.682785</td>\n",
              "      <td>-0.506695</td>\n",
              "      <td>-0.326043</td>\n",
              "      <td>0.665482</td>\n",
              "      <td>-0.106681</td>\n",
              "      <td>-0.097006</td>\n",
              "    </tr>\n",
              "    <tr>\n",
              "      <th>Raw H2</th>\n",
              "      <td>-0.135540</td>\n",
              "      <td>0.247199</td>\n",
              "      <td>-0.653053</td>\n",
              "      <td>-0.682785</td>\n",
              "      <td>1.000000</td>\n",
              "      <td>0.631495</td>\n",
              "      <td>0.303090</td>\n",
              "      <td>-0.530714</td>\n",
              "      <td>-0.031036</td>\n",
              "      <td>0.107007</td>\n",
              "    </tr>\n",
              "    <tr>\n",
              "      <th>Raw Ethanol</th>\n",
              "      <td>-0.037343</td>\n",
              "      <td>0.068782</td>\n",
              "      <td>-0.673715</td>\n",
              "      <td>-0.506695</td>\n",
              "      <td>0.631495</td>\n",
              "      <td>1.000000</td>\n",
              "      <td>-0.075926</td>\n",
              "      <td>-0.480698</td>\n",
              "      <td>-0.511995</td>\n",
              "      <td>-0.340652</td>\n",
              "    </tr>\n",
              "    <tr>\n",
              "      <th>Pressure[hPa]</th>\n",
              "      <td>-0.251203</td>\n",
              "      <td>0.694614</td>\n",
              "      <td>-0.220004</td>\n",
              "      <td>-0.326043</td>\n",
              "      <td>0.303090</td>\n",
              "      <td>-0.075926</td>\n",
              "      <td>1.000000</td>\n",
              "      <td>-0.258938</td>\n",
              "      <td>0.186290</td>\n",
              "      <td>0.249797</td>\n",
              "    </tr>\n",
              "    <tr>\n",
              "      <th>PM1.0</th>\n",
              "      <td>0.037330</td>\n",
              "      <td>-0.236538</td>\n",
              "      <td>0.597366</td>\n",
              "      <td>0.665482</td>\n",
              "      <td>-0.530714</td>\n",
              "      <td>-0.480698</td>\n",
              "      <td>-0.258938</td>\n",
              "      <td>1.000000</td>\n",
              "      <td>-0.093700</td>\n",
              "      <td>-0.110552</td>\n",
              "    </tr>\n",
              "    <tr>\n",
              "      <th>CNT</th>\n",
              "      <td>-0.089850</td>\n",
              "      <td>0.251965</td>\n",
              "      <td>-0.057703</td>\n",
              "      <td>-0.106681</td>\n",
              "      <td>-0.031036</td>\n",
              "      <td>-0.511995</td>\n",
              "      <td>0.186290</td>\n",
              "      <td>-0.093700</td>\n",
              "      <td>1.000000</td>\n",
              "      <td>0.673762</td>\n",
              "    </tr>\n",
              "    <tr>\n",
              "      <th>Fire Alarm</th>\n",
              "      <td>-0.163902</td>\n",
              "      <td>0.399846</td>\n",
              "      <td>-0.214743</td>\n",
              "      <td>-0.097006</td>\n",
              "      <td>0.107007</td>\n",
              "      <td>-0.340652</td>\n",
              "      <td>0.249797</td>\n",
              "      <td>-0.110552</td>\n",
              "      <td>0.673762</td>\n",
              "      <td>1.000000</td>\n",
              "    </tr>\n",
              "  </tbody>\n",
              "</table>\n",
              "</div>\n",
              "      <button class=\"colab-df-convert\" onclick=\"convertToInteractive('df-9ce9066f-61bf-4189-bcfe-92cd5b911929')\"\n",
              "              title=\"Convert this dataframe to an interactive table.\"\n",
              "              style=\"display:none;\">\n",
              "        \n",
              "  <svg xmlns=\"http://www.w3.org/2000/svg\" height=\"24px\"viewBox=\"0 0 24 24\"\n",
              "       width=\"24px\">\n",
              "    <path d=\"M0 0h24v24H0V0z\" fill=\"none\"/>\n",
              "    <path d=\"M18.56 5.44l.94 2.06.94-2.06 2.06-.94-2.06-.94-.94-2.06-.94 2.06-2.06.94zm-11 1L8.5 8.5l.94-2.06 2.06-.94-2.06-.94L8.5 2.5l-.94 2.06-2.06.94zm10 10l.94 2.06.94-2.06 2.06-.94-2.06-.94-.94-2.06-.94 2.06-2.06.94z\"/><path d=\"M17.41 7.96l-1.37-1.37c-.4-.4-.92-.59-1.43-.59-.52 0-1.04.2-1.43.59L10.3 9.45l-7.72 7.72c-.78.78-.78 2.05 0 2.83L4 21.41c.39.39.9.59 1.41.59.51 0 1.02-.2 1.41-.59l7.78-7.78 2.81-2.81c.8-.78.8-2.07 0-2.86zM5.41 20L4 18.59l7.72-7.72 1.47 1.35L5.41 20z\"/>\n",
              "  </svg>\n",
              "      </button>\n",
              "      \n",
              "  <style>\n",
              "    .colab-df-container {\n",
              "      display:flex;\n",
              "      flex-wrap:wrap;\n",
              "      gap: 12px;\n",
              "    }\n",
              "\n",
              "    .colab-df-convert {\n",
              "      background-color: #E8F0FE;\n",
              "      border: none;\n",
              "      border-radius: 50%;\n",
              "      cursor: pointer;\n",
              "      display: none;\n",
              "      fill: #1967D2;\n",
              "      height: 32px;\n",
              "      padding: 0 0 0 0;\n",
              "      width: 32px;\n",
              "    }\n",
              "\n",
              "    .colab-df-convert:hover {\n",
              "      background-color: #E2EBFA;\n",
              "      box-shadow: 0px 1px 2px rgba(60, 64, 67, 0.3), 0px 1px 3px 1px rgba(60, 64, 67, 0.15);\n",
              "      fill: #174EA6;\n",
              "    }\n",
              "\n",
              "    [theme=dark] .colab-df-convert {\n",
              "      background-color: #3B4455;\n",
              "      fill: #D2E3FC;\n",
              "    }\n",
              "\n",
              "    [theme=dark] .colab-df-convert:hover {\n",
              "      background-color: #434B5C;\n",
              "      box-shadow: 0px 1px 3px 1px rgba(0, 0, 0, 0.15);\n",
              "      filter: drop-shadow(0px 1px 2px rgba(0, 0, 0, 0.3));\n",
              "      fill: #FFFFFF;\n",
              "    }\n",
              "  </style>\n",
              "\n",
              "      <script>\n",
              "        const buttonEl =\n",
              "          document.querySelector('#df-9ce9066f-61bf-4189-bcfe-92cd5b911929 button.colab-df-convert');\n",
              "        buttonEl.style.display =\n",
              "          google.colab.kernel.accessAllowed ? 'block' : 'none';\n",
              "\n",
              "        async function convertToInteractive(key) {\n",
              "          const element = document.querySelector('#df-9ce9066f-61bf-4189-bcfe-92cd5b911929');\n",
              "          const dataTable =\n",
              "            await google.colab.kernel.invokeFunction('convertToInteractive',\n",
              "                                                     [key], {});\n",
              "          if (!dataTable) return;\n",
              "\n",
              "          const docLinkHtml = 'Like what you see? Visit the ' +\n",
              "            '<a target=\"_blank\" href=https://colab.research.google.com/notebooks/data_table.ipynb>data table notebook</a>'\n",
              "            + ' to learn more about interactive tables.';\n",
              "          element.innerHTML = '';\n",
              "          dataTable['output_type'] = 'display_data';\n",
              "          await google.colab.output.renderOutput(dataTable, element);\n",
              "          const docLink = document.createElement('div');\n",
              "          docLink.innerHTML = docLinkHtml;\n",
              "          element.appendChild(docLink);\n",
              "        }\n",
              "      </script>\n",
              "    </div>\n",
              "  </div>\n",
              "  "
            ]
          },
          "metadata": {},
          "execution_count": 16
        }
      ]
    },
    {
      "cell_type": "code",
      "source": [
        "plt.figure(figsize = (14, 12))\n",
        "sns.heatmap(corr1, annot = True, fmt = '.2f')\n",
        "plt.title('Heatmap', fontsize = 20)\n",
        "plt.show()"
      ],
      "metadata": {
        "id": "iPGifp4XjgaX",
        "outputId": "57518dda-6149-48aa-ad63-3523d265aff8",
        "colab": {
          "base_uri": "https://localhost:8080/",
          "height": 789
        }
      },
      "execution_count": 17,
      "outputs": [
        {
          "output_type": "display_data",
          "data": {
            "text/plain": [
              "<Figure size 1008x864 with 2 Axes>"
            ],
            "image/png": "[encoded data removed]"
          },
          "metadata": {
            "needs_background": "light"
          }
        }
      ]
    },
    {
      "cell_type": "code",
      "execution_count": 18,
      "metadata": {
        "id": "tc9iz8_aCqTM",
        "outputId": "62490e80-3c31-400f-969b-9fe337a4fda2",
        "colab": {
          "base_uri": "https://localhost:8080/",
          "height": 442
        }
      },
      "outputs": [
        {
          "output_type": "display_data",
          "data": {
            "text/plain": [
              "<Figure size 864x504 with 1 Axes>"
            ],
            "image/png": "[encoded data removed]"
          },
          "metadata": {
            "needs_background": "light"
          }
        }
      ],
      "source": [
        "plt.figure(figsize = (12, 7))\n",
        "sns.histplot(df, x = \"Temperature[C]\", bins = 20, hue = \"Fire Alarm\", )\n",
        "plt.show()"
      ]
    },
    {
      "cell_type": "markdown",
      "metadata": {
        "id": "QF-lgZnxE-ri"
      },
      "source": [
        "**Class Imbalance**"
      ]
    },
    {
      "cell_type": "markdown",
      "metadata": {
        "id": "qK28f97aFYQJ"
      },
      "source": [
        "*Despite the fact that the data include some significant multicollinearities, we will initially try a naive method of creating classification models without eliminating the multicollinearities. We shall eliminate the multicollinearities and retry if the naïve technique does not produce good results.*"
      ]
    },
    {
      "cell_type": "markdown",
      "metadata": {
        "id": "sjVxa-t_HWw_"
      },
      "source": [
        "**Data Pre-processing**\n",
        "\n",
        "Splitting the Dependent and the Independent Variables:"
      ]
    },
    {
      "cell_type": "code",
      "execution_count": 19,
      "metadata": {
        "id": "_RM89aVJHX8j"
      },
      "outputs": [],
      "source": [
        "y = df['Fire Alarm']\n",
        "x = df.drop('Fire Alarm', axis = 1)"
      ]
    },
    {
      "cell_type": "markdown",
      "metadata": {
        "id": "MNHLw9stHifb"
      },
      "source": [
        "Splitting the Data into Training and Testing Sets:"
      ]
    },
    {
      "cell_type": "code",
      "execution_count": 20,
      "metadata": {
        "id": "4TIhPeneHjOa",
        "outputId": "1de8d392-58d3-42e0-85cd-c8b0fc781de3",
        "colab": {
          "base_uri": "https://localhost:8080/"
        }
      },
      "outputs": [
        {
          "output_type": "execute_result",
          "data": {
            "text/plain": [
              "((50104, 9), (12526, 9), (50104,), (12526,))"
            ]
          },
          "metadata": {},
          "execution_count": 20
        }
      ],
      "source": [
        "X_train, X_test, Y_train, Y_test = train_test_split(x, y, test_size = 0.2, random_state = 10)\n",
        "X_train.shape, X_test.shape, Y_train.shape, Y_test.shape"
      ]
    },
    {
      "cell_type": "markdown",
      "metadata": {
        "id": "zte7A2mAIrrO"
      },
      "source": [
        "** Scalling Data**"
      ]
    },
    {
      "cell_type": "code",
      "execution_count": 21,
      "metadata": {
        "id": "8yTGPJ6kIqmU"
      },
      "outputs": [],
      "source": [
        "scaler = StandardScaler()\n",
        "X_train = scaler.fit_transform(X_train)\n",
        "X_test = scaler.fit_transform(X_test)"
      ]
    },
    {
      "cell_type": "code",
      "execution_count": 24,
      "metadata": {
        "id": "n8zhJhZ2I7W_",
        "outputId": "ff1dc1ac-3519-457f-92e6-ddf732e5de94",
        "colab": {
          "base_uri": "https://localhost:8080/",
          "height": 356
        }
      },
      "outputs": [
        {
          "output_type": "display_data",
          "data": {
            "text/plain": [
              "<Figure size 432x288 with 1 Axes>"
            ],
            "image/png": "[encoded data removed]"
          },
          "metadata": {
            "needs_background": "light"
          }
        }
      ],
      "source": [
        "sns.countplot(x = Y_train)\n",
        "plt.text(x = 0 - 0.1, y = Y_train.value_counts()[0] + 500, s = Y_train.value_counts()[0])\n",
        "plt.text(x = 1 - 0.1, y = Y_train.value_counts()[1] + 500, s = Y_train.value_counts()[1])\n",
        "plt.xticks([0, 1], ['No Alarm', 'Alarm'])\n",
        "plt.ylabel('Count')\n",
        "plt.tight_layout(pad = -1)\n",
        "plt.title('Class Imbalance', fontsize = 15)\n",
        "plt.show()"
      ]
    },
    {
      "cell_type": "markdown",
      "metadata": {
        "id": "4U4wQX_pJBaX"
      },
      "source": [
        "It is clear that the target classes are imbalanced. This needs to be addressed before building any model.\n",
        "\n"
      ]
    },
    {
      "cell_type": "markdown",
      "metadata": {
        "id": "WUFB86qhJFIW"
      },
      "source": [
        "Over-Sampling the Minority Class using SMOTE (Synthetic Minority Over-sampling Technique)\n",
        "**for preventing Class imbalance**"
      ]
    },
    {
      "cell_type": "code",
      "execution_count": 23,
      "metadata": {
        "id": "M_ibB6ioJCZ_"
      },
      "outputs": [],
      "source": [
        "smote = SMOTE(random_state = 10) \n",
        "X_train, Y_train = smote.fit_resample(X_train, Y_train)"
      ]
    },
    {
      "cell_type": "markdown",
      "metadata": {
        "id": "zPdyKYJTJRrd"
      },
      "source": [
        "Re-checking if the Target Classes are Balanced:"
      ]
    },
    {
      "cell_type": "code",
      "execution_count": 25,
      "metadata": {
        "id": "gYUqDqFGJChs",
        "outputId": "1c02be3b-8540-48e2-caec-d1ff29d29dee",
        "colab": {
          "base_uri": "https://localhost:8080/",
          "height": 356
        }
      },
      "outputs": [
        {
          "output_type": "display_data",
          "data": {
            "text/plain": [
              "<Figure size 432x288 with 1 Axes>"
            ],
            "image/png": "[encoded data removed]"
          },
          "metadata": {
            "needs_background": "light"
          }
        }
      ],
      "source": [
        "sns.countplot(x = Y_train)\n",
        "plt.text(x = 0 - 0.1, y = Y_train.value_counts()[0] + 500, s = Y_train.value_counts()[0])\n",
        "plt.text(x = 1 - 0.1, y = Y_train.value_counts()[1] + 500, s = Y_train.value_counts()[1])\n",
        "plt.xticks([0, 1], ['No Alarm', 'Alarm'])\n",
        "plt.ylabel('Count')\n",
        "plt.tight_layout(pad = -1)\n",
        "plt.title('Class Imbalance', fontsize = 15)\n",
        "plt.show()"
      ]
    },
    {
      "cell_type": "markdown",
      "metadata": {
        "id": "0pzuZzmcJYRL"
      },
      "source": [
        "The target classes are now balanced in the training set, making it feasible for model building."
      ]
    },
    {
      "cell_type": "code",
      "execution_count": 34,
      "metadata": {
        "id": "3E6bbZnVotba",
        "outputId": "50d06d5b-d634-4f42-cfb7-53c0679777b5",
        "colab": {
          "base_uri": "https://localhost:8080/"
        }
      },
      "outputs": [
        {
          "output_type": "stream",
          "name": "stdout",
          "text": [
            "[1 0 0 ... 0 1 1]\n"
          ]
        }
      ],
      "source": [
        "from sklearn import svm\n",
        "#Create a svm Classifier\n",
        "clf = svm.SVC(kernel='linear') # Linear Kernel\n",
        "#Train the model using the training sets\n",
        "clf.fit(X_train, Y_train)\n",
        "#Predict the response for test dataset\n",
        "y_pred = clf.predict(X_test)\n",
        "print(y_pred)"
      ]
    },
    {
      "cell_type": "code",
      "execution_count": 27,
      "metadata": {
        "id": "QvMdiotBDkt1",
        "outputId": "85420c8d-3fbb-4d4f-e2b5-a0c6558b6387",
        "colab": {
          "base_uri": "https://localhost:8080/"
        }
      },
      "outputs": [
        {
          "output_type": "stream",
          "name": "stdout",
          "text": [
            "Accuracy of Logistic Regression Model : 0.9860290595561233\n"
          ]
        }
      ],
      "source": [
        "model = LogisticRegression()\n",
        "model.fit(X_train, Y_train)\n",
        "logreg_accuracy = model.score(X_test, Y_test)\n",
        "print(f\"Accuracy of Logistic Regression Model : {logreg_accuracy}\")\n",
        "logreg_predict = model.predict(X_test)"
      ]
    },
    {
      "cell_type": "code",
      "execution_count": 28,
      "metadata": {
        "id": "9RpDqsHPEalF",
        "outputId": "27e032ef-1593-432e-9953-c73609a2b6b4",
        "colab": {
          "base_uri": "https://localhost:8080/"
        }
      },
      "outputs": [
        {
          "output_type": "stream",
          "name": "stdout",
          "text": [
            "Accuracy of Decision Tree Model : 0.979402842088456\n"
          ]
        }
      ],
      "source": [
        "model = DecisionTreeClassifier()\n",
        "model.fit(X_train, Y_train)\n",
        "destre_accuracy = model.score(X_test, Y_test)\n",
        "print(f\"Accuracy of Decision Tree Model : {destre_accuracy}\")\n",
        "destre_predict = model.predict(X_test)"
      ]
    },
    {
      "cell_type": "code",
      "execution_count": 29,
      "metadata": {
        "id": "XTf5PlpTE95Y",
        "outputId": "477eea48-0b47-4a21-c38a-3f3634986100",
        "colab": {
          "base_uri": "https://localhost:8080/"
        }
      },
      "outputs": [
        {
          "output_type": "stream",
          "name": "stdout",
          "text": [
            "Accuracy of Random Forest Model : 0.9998403321092129\n"
          ]
        }
      ],
      "source": [
        "model = RandomForestClassifier()\n",
        "model.fit(X_train, Y_train)\n",
        "rf_accuracy = model.score(X_test, Y_test)\n",
        "print(f\"Accuracy of Random Forest Model : {rf_accuracy}\")\n",
        "rf_predict = model.predict(X_test)"
      ]
    },
    {
      "cell_type": "code",
      "execution_count": 31,
      "metadata": {
        "id": "Ij8039VUFRJq",
        "outputId": "d22badc6-2117-4cb1-c793-773b8636d816",
        "colab": {
          "base_uri": "https://localhost:8080/"
        }
      },
      "outputs": [
        {
          "output_type": "stream",
          "name": "stdout",
          "text": [
            "Accuracy of AdaBoost Model : 0.9016445792751078\n"
          ]
        }
      ],
      "source": [
        "from sklearn.ensemble import AdaBoostClassifier\n",
        "model = AdaBoostClassifier()\n",
        "model.fit(X_train, Y_train)\n",
        "ada_accuracy = model.score(X_test, Y_test)\n",
        "print(f\"Accuracy of AdaBoost Model : {ada_accuracy}\")\n",
        "ada_predict = model.predict(X_test)"
      ]
    },
    {
      "cell_type": "code",
      "execution_count": 32,
      "metadata": {
        "id": "eoTJDpvJFdCj",
        "outputId": "2cf76f5a-d064-4e09-bb74-5d33d8506f5e",
        "colab": {
          "base_uri": "https://localhost:8080/"
        }
      },
      "outputs": [
        {
          "output_type": "stream",
          "name": "stdout",
          "text": [
            "Accuracy of AdaBoost Model : 0.9976049816381926\n"
          ]
        }
      ],
      "source": [
        "from sklearn.ensemble import GradientBoostingClassifier\n",
        "model = GradientBoostingClassifier()\n",
        "model.fit(X_train, Y_train)\n",
        "Gad_accuracy = model.score(X_test, Y_test)\n",
        "print(f\"Accuracy of AdaBoost Model : {Gad_accuracy}\")\n",
        "gad_predict = model.predict(X_test)"
      ]
    },
    {
      "cell_type": "code",
      "execution_count": 30,
      "metadata": {
        "id": "siaOebErH23X",
        "outputId": "b17f1b3f-5e0b-42fa-f625-45fc31ef550b",
        "colab": {
          "base_uri": "https://localhost:8080/"
        }
      },
      "outputs": [
        {
          "output_type": "stream",
          "name": "stdout",
          "text": [
            "Epoch 1/15\n",
            "3583/3583 [==============================] - 11s 2ms/step - loss: 0.1679 - accuracy: 0.9555 - val_loss: 0.0492 - val_accuracy: 0.9887\n",
            "Epoch 2/15\n",
            "3583/3583 [==============================] - 7s 2ms/step - loss: 0.0335 - accuracy: 0.9931 - val_loss: 0.0265 - val_accuracy: 0.9930\n",
            "Epoch 3/15\n",
            "3583/3583 [==============================] - 11s 3ms/step - loss: 0.0182 - accuracy: 0.9961 - val_loss: 0.0153 - val_accuracy: 0.9974\n",
            "Epoch 4/15\n",
            "3583/3583 [==============================] - 9s 3ms/step - loss: 0.0115 - accuracy: 0.9983 - val_loss: 0.0098 - val_accuracy: 0.9990\n",
            "Epoch 5/15\n",
            "3583/3583 [==============================] - 14s 4ms/step - loss: 0.0079 - accuracy: 0.9994 - val_loss: 0.0068 - val_accuracy: 0.9995\n",
            "Epoch 6/15\n",
            "3583/3583 [==============================] - 7s 2ms/step - loss: 0.0057 - accuracy: 0.9996 - val_loss: 0.0050 - val_accuracy: 0.9996\n",
            "Epoch 7/15\n",
            "3583/3583 [==============================] - 7s 2ms/step - loss: 0.0046 - accuracy: 0.9996 - val_loss: 0.0042 - val_accuracy: 0.9995\n",
            "Epoch 8/15\n",
            "3583/3583 [==============================] - 6s 2ms/step - loss: 0.0038 - accuracy: 0.9996 - val_loss: 0.0046 - val_accuracy: 0.9990\n",
            "Epoch 9/15\n",
            "3583/3583 [==============================] - 6s 2ms/step - loss: 0.0033 - accuracy: 0.9996 - val_loss: 0.0036 - val_accuracy: 0.9992\n",
            "Epoch 10/15\n",
            "3583/3583 [==============================] - 7s 2ms/step - loss: 0.0030 - accuracy: 0.9996 - val_loss: 0.0028 - val_accuracy: 0.9994\n",
            "Epoch 11/15\n",
            "3583/3583 [==============================] - 9s 2ms/step - loss: 0.0027 - accuracy: 0.9997 - val_loss: 0.0025 - val_accuracy: 0.9996\n",
            "Epoch 12/15\n",
            "3583/3583 [==============================] - 7s 2ms/step - loss: 0.0025 - accuracy: 0.9997 - val_loss: 0.0023 - val_accuracy: 0.9996\n",
            "Epoch 13/15\n",
            "3583/3583 [==============================] - 7s 2ms/step - loss: 0.0024 - accuracy: 0.9996 - val_loss: 0.0023 - val_accuracy: 0.9994\n",
            "Epoch 14/15\n",
            "3583/3583 [==============================] - 7s 2ms/step - loss: 0.0023 - accuracy: 0.9996 - val_loss: 0.0020 - val_accuracy: 0.9997\n",
            "Epoch 15/15\n",
            "3583/3583 [==============================] - 7s 2ms/step - loss: 0.0022 - accuracy: 0.9995 - val_loss: 0.0024 - val_accuracy: 0.9992\n",
            "392/392 [==============================] - 1s 1ms/step\n",
            "392/392 [==============================] - 1s 1ms/step - loss: 0.0024 - accuracy: 0.9992\n"
          ]
        },
        {
          "output_type": "execute_result",
          "data": {
            "text/plain": [
              "{'loss': [0.1679462045431137,\n",
              "  0.03346100077033043,\n",
              "  0.01819167099893093,\n",
              "  0.011501278728246689,\n",
              "  0.007880029268562794,\n",
              "  0.005738422740250826,\n",
              "  0.004596199840307236,\n",
              "  0.003806991735473275,\n",
              "  0.003327189711853862,\n",
              "  0.0029816781170666218,\n",
              "  0.002738491864874959,\n",
              "  0.002492688363417983,\n",
              "  0.0023896205238997936,\n",
              "  0.0022554390598088503,\n",
              "  0.002218647627159953],\n",
              " 'accuracy': [0.9554603099822998,\n",
              "  0.9931466579437256,\n",
              "  0.9961336851119995,\n",
              "  0.9983250498771667,\n",
              "  0.9994277358055115,\n",
              "  0.9995812773704529,\n",
              "  0.9995812773704529,\n",
              "  0.9996370673179626,\n",
              "  0.9995952248573303,\n",
              "  0.9995812773704529,\n",
              "  0.9996510744094849,\n",
              "  0.9996650218963623,\n",
              "  0.9995812773704529,\n",
              "  0.9996091723442078,\n",
              "  0.9995393753051758],\n",
              " 'val_loss': [0.04920501261949539,\n",
              "  0.026534251868724823,\n",
              "  0.0152656901627779,\n",
              "  0.00977798830717802,\n",
              "  0.006762785371392965,\n",
              "  0.005016297567635775,\n",
              "  0.00418712617829442,\n",
              "  0.004635400604456663,\n",
              "  0.003563436446711421,\n",
              "  0.0027509848587214947,\n",
              "  0.0025025957729667425,\n",
              "  0.0022961883805692196,\n",
              "  0.0022953548468649387,\n",
              "  0.0020296492148190737,\n",
              "  0.0024178021121770144],\n",
              " 'val_accuracy': [0.9886635541915894,\n",
              "  0.9929746389389038,\n",
              "  0.9973654747009277,\n",
              "  0.9990419745445251,\n",
              "  0.999521017074585,\n",
              "  0.9996008276939392,\n",
              "  0.999521017074585,\n",
              "  0.9989621639251709,\n",
              "  0.9992016553878784,\n",
              "  0.9994411468505859,\n",
              "  0.9996008276939392,\n",
              "  0.9996008276939392,\n",
              "  0.9994411468505859,\n",
              "  0.9996806383132935,\n",
              "  0.9992016553878784]}"
            ]
          },
          "metadata": {},
          "execution_count": 30
        }
      ],
      "source": [
        "ann = tf.keras.models.Sequential()\n",
        "ann.add(tf.keras.layers.Dense(units=6,activation=\"relu\"))\n",
        "ann.add(tf.keras.layers.Dense(units=1,activation=\"sigmoid\"))\n",
        "ann.compile(optimizer=\"adam\",loss=\"binary_crossentropy\",metrics=['accuracy'])\n",
        "history=ann.fit(x=X_train,y=Y_train,validation_data=(X_test,Y_test),batch_size=20,epochs=15)\n",
        "y_pred=ann.predict(X_test)\n",
        "\n",
        "y_pred=list(y_pred)\n",
        "\n",
        "for i in range(len(y_pred)):\n",
        "    if y_pred[i] >= .5:\n",
        "        y_pred[i]=1\n",
        "    else : y_pred[i]=0\n",
        "\n",
        "ann.evaluate(X_test,Y_test)\n",
        "history.history"
      ]
    },
    {
      "cell_type": "code",
      "source": [],
      "metadata": {
        "id": "ds-Jds7Bnj84"
      },
      "execution_count": 30,
      "outputs": []
    }
  ],
  "metadata": {
    "colab": {
      "provenance": []
    },
    "kernelspec": {
      "display_name": "Python 3",
      "name": "python3"
    },
    "language_info": {
      "name": "python"
    }
  },
  "nbformat": 4,
  "nbformat_minor": 0
}